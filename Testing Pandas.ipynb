{
 "cells": [
  {
   "cell_type": "code",
   "execution_count": 72,
   "id": "ed2795e6-5fb4-42a8-bfbb-3302aadc6491",
   "metadata": {},
   "outputs": [
    {
     "name": "stdout",
     "output_type": "stream",
     "text": [
      "        Prova 1  Prova 2  Prova 3\n",
      "João        7.5      8.0      9.0\n",
      "Maria       6.0      7.5      8.5\n",
      "Carlos      9.0      9.5     10.0\n"
     ]
    }
   ],
   "source": [
    "import numpy as np\n",
    "import pandas as pd\n",
    "\n",
    "# Simulando uma matriz de notas\n",
    "\n",
    "notas = np.array([\n",
    "    [7.5, 8.0, 9.0],   # aluno 1\n",
    "    [6.0, 7.5, 8.5],   # aluno 2\n",
    "    [9.0, 9.5, 10.0]   # aluno 3\n",
    "])\n",
    "\n",
    "alunos = ['João', 'Maria', 'Carlos']\n",
    "provas = ['Prova 1', 'Prova 2', 'Prova 3']\n",
    "\n",
    "df = pd.DataFrame(notas, index=alunos, columns=provas)\n",
    "print(df)"
   ]
  },
  {
   "cell_type": "code",
   "execution_count": 74,
   "id": "9e500dfb-6bb4-4dad-a885-5802c12cb7a9",
   "metadata": {},
   "outputs": [
    {
     "data": {
      "text/html": [
       "<style type=\"text/css\">\n",
       "#T_0a3db_row0_col2, #T_0a3db_row1_col2 {\n",
       "  background-color: lightblue;\n",
       "}\n",
       "#T_0a3db_row2_col0, #T_0a3db_row2_col1, #T_0a3db_row2_col3 {\n",
       "  background-color: lightgreen;\n",
       "}\n",
       "#T_0a3db_row2_col2 {\n",
       "  background-color: lightgreen;\n",
       "  background-color: lightblue;\n",
       "}\n",
       "</style>\n",
       "<table id=\"T_0a3db\">\n",
       "  <caption>📊 Notas dos Alunos</caption>\n",
       "  <thead>\n",
       "    <tr>\n",
       "      <th class=\"blank level0\" >&nbsp;</th>\n",
       "      <th id=\"T_0a3db_level0_col0\" class=\"col_heading level0 col0\" >Prova 1</th>\n",
       "      <th id=\"T_0a3db_level0_col1\" class=\"col_heading level0 col1\" >Prova 2</th>\n",
       "      <th id=\"T_0a3db_level0_col2\" class=\"col_heading level0 col2\" >Prova 3</th>\n",
       "      <th id=\"T_0a3db_level0_col3\" class=\"col_heading level0 col3\" >Média</th>\n",
       "    </tr>\n",
       "  </thead>\n",
       "  <tbody>\n",
       "    <tr>\n",
       "      <th id=\"T_0a3db_level0_row0\" class=\"row_heading level0 row0\" >João</th>\n",
       "      <td id=\"T_0a3db_row0_col0\" class=\"data row0 col0\" >7.50</td>\n",
       "      <td id=\"T_0a3db_row0_col1\" class=\"data row0 col1\" >8.00</td>\n",
       "      <td id=\"T_0a3db_row0_col2\" class=\"data row0 col2\" >9.00</td>\n",
       "      <td id=\"T_0a3db_row0_col3\" class=\"data row0 col3\" >8.17</td>\n",
       "    </tr>\n",
       "    <tr>\n",
       "      <th id=\"T_0a3db_level0_row1\" class=\"row_heading level0 row1\" >Maria</th>\n",
       "      <td id=\"T_0a3db_row1_col0\" class=\"data row1 col0\" >6.00</td>\n",
       "      <td id=\"T_0a3db_row1_col1\" class=\"data row1 col1\" >7.50</td>\n",
       "      <td id=\"T_0a3db_row1_col2\" class=\"data row1 col2\" >8.50</td>\n",
       "      <td id=\"T_0a3db_row1_col3\" class=\"data row1 col3\" >7.33</td>\n",
       "    </tr>\n",
       "    <tr>\n",
       "      <th id=\"T_0a3db_level0_row2\" class=\"row_heading level0 row2\" >Carlos</th>\n",
       "      <td id=\"T_0a3db_row2_col0\" class=\"data row2 col0\" >9.00</td>\n",
       "      <td id=\"T_0a3db_row2_col1\" class=\"data row2 col1\" >9.50</td>\n",
       "      <td id=\"T_0a3db_row2_col2\" class=\"data row2 col2\" >10.00</td>\n",
       "      <td id=\"T_0a3db_row2_col3\" class=\"data row2 col3\" >9.50</td>\n",
       "    </tr>\n",
       "  </tbody>\n",
       "</table>\n"
      ],
      "text/plain": [
       "<pandas.io.formats.style.Styler at 0x23e81d22180>"
      ]
     },
     "execution_count": 74,
     "metadata": {},
     "output_type": "execute_result"
    }
   ],
   "source": [
    "import pandas as pd\n",
    "\n",
    "# Criando o DataFrame diretamente\n",
    "df = pd.DataFrame({\n",
    "    'Prova 1': [7.5, 6.0, 9.0],\n",
    "    'Prova 2': [8.0, 7.5, 9.5],\n",
    "    'Prova 3': [9.0, 8.5, 10.0]\n",
    "}, index=['João', 'Maria', 'Carlos'])\n",
    "\n",
    "# Calculando a média\n",
    "df['Média'] = df.mean(axis=1)\n",
    "\n",
    "# Destaque visual no Jupyter (não precisa print!)\n",
    "df_styled = df.style\\\n",
    "    .highlight_max(axis=0, color='lightgreen')\\\n",
    "    .highlight_max(axis=1, color='lightblue')\\\n",
    "    .format(precision=2)\\\n",
    "    .set_caption(\"📊 Notas dos Alunos\")\n",
    "\n",
    "df_styled\n"
   ]
  },
  {
   "cell_type": "code",
   "execution_count": 78,
   "id": "da763c77-0b63-42f2-9039-ce3620212c9a",
   "metadata": {},
   "outputs": [
    {
     "name": "stdout",
     "output_type": "stream",
     "text": [
      "Narciso tem 27 anos e mora em Porto\n"
     ]
    }
   ],
   "source": [
    "info_motorista = (\"Narciso\", \"27\", \"Porto\")\n",
    "\n",
    "print(f\"{info_motorista[0]} tem {info_motorista[1]} anos e mora em {info_motorista[2]}\")"
   ]
  },
  {
   "cell_type": "code",
   "execution_count": 89,
   "id": "fb283391-9241-4b3a-9e33-6fd233107c45",
   "metadata": {},
   "outputs": [
    {
     "name": "stdin",
     "output_type": "stream",
     "text": [
      "Qual é o seu nome?  5\n",
      "Qual sua idade? Sim\n",
      "Onde você mora?  5\n"
     ]
    },
    {
     "name": "stdout",
     "output_type": "stream",
     "text": [
      "5 tem Sim anos e mora em 5\n"
     ]
    }
   ],
   "source": [
    "nome = input(\"Qual é o seu nome? \")\n",
    "idade = input(\"Qual sua idade?\" )\n",
    "cidade = input(\"Onde você mora? \")\n",
    "\n",
    "info = (nome, idade, cidade)\n",
    "\n",
    "print(f\"{info[0]} tem {info[1]} anos e mora em {info[2]}\")"
   ]
  },
  {
   "cell_type": "code",
   "execution_count": 95,
   "id": "207cd050-e0db-443e-aa7d-f20cc4f0acf2",
   "metadata": {},
   "outputs": [
    {
     "name": "stdout",
     "output_type": "stream",
     "text": [
      "\n",
      "Motorista 1\n"
     ]
    },
    {
     "name": "stdin",
     "output_type": "stream",
     "text": [
      "Qual é o seu nome?  Narciso\n",
      "Qual sua idade?  27\n",
      "Onde você mora?  Porto\n"
     ]
    },
    {
     "name": "stdout",
     "output_type": "stream",
     "text": [
      "\n",
      "Motorista 2\n"
     ]
    },
    {
     "name": "stdin",
     "output_type": "stream",
     "text": [
      "Qual é o seu nome?  Guimas\n",
      "Qual sua idade?  23\n",
      "Onde você mora?  Porto\n"
     ]
    },
    {
     "name": "stdout",
     "output_type": "stream",
     "text": [
      "\n",
      "Motorista 3\n"
     ]
    },
    {
     "name": "stdin",
     "output_type": "stream",
     "text": [
      "Qual é o seu nome?  Jp\n",
      "Qual sua idade?  23\n",
      "Onde você mora?  Porto\n"
     ]
    },
    {
     "name": "stdout",
     "output_type": "stream",
     "text": [
      "\n",
      "Motoristas registrados:\n",
      "1. Narciso tem 27 anos e mora em Porto.\n",
      "2. Guimas tem 23 anos e mora em Porto.\n",
      "3. Jp tem 23 anos e mora em Porto.\n"
     ]
    }
   ],
   "source": [
    "motoristas = []\n",
    "\n",
    "for i in range(3):\n",
    "    print(f\"\\nMotorista {i+1}\")\n",
    "    nome = input(\"Qual é o seu nome? \")\n",
    "    idade = input(\"Qual sua idade? \")\n",
    "    cidade = input(\"Onde você mora? \")\n",
    "    \n",
    "    info = (nome, idade, cidade)\n",
    "    motoristas.append(info)\n",
    "\n",
    "print(\"\\nMotoristas registrados:\")\n",
    "for i, motorista in enumerate(motoristas, 1):\n",
    "    print(f\"{i}. {motorista[0]} tem {motorista[1]} anos e mora em {motorista[2]}.\")\n"
   ]
  },
  {
   "cell_type": "code",
   "execution_count": 116,
   "id": "0dec12d4-091b-4d8b-99b3-18d77dbb4e0e",
   "metadata": {},
   "outputs": [],
   "source": [
    "import numpy as np\n",
    "\n",
    "data = np.array([[1.5, -0.1, 3], [0, -3, 6.5]])\n"
   ]
  },
  {
   "cell_type": "code",
   "execution_count": 152,
   "id": "564167c2-1976-417f-a4b8-73957d73d62b",
   "metadata": {},
   "outputs": [
    {
     "data": {
      "text/plain": [
       "(2, 3)"
      ]
     },
     "execution_count": 152,
     "metadata": {},
     "output_type": "execute_result"
    }
   ],
   "source": [
    "data.shape"
   ]
  },
  {
   "cell_type": "code",
   "execution_count": 3,
   "id": "fb48dda8-e06e-4708-9c5d-c3637610ad64",
   "metadata": {},
   "outputs": [
    {
     "name": "stdout",
     "output_type": "stream",
     "text": [
      "   Entregador  Distancia  Valor\n",
      "0     Narciso       12.5    9.2\n",
      "1  João Paulo        8.3    6.5\n",
      "2       Lucas       15.0   11.0\n",
      "3     Passoca        6.2    4.8\n",
      "4   Guilherme       10.1    7.9\n"
     ]
    }
   ],
   "source": [
    "import pandas as pd \n",
    "\n",
    "dados = {\n",
    "    \"Entregador\": ['Narciso', 'João Paulo', 'Lucas', 'Passoca', 'Guilherme'],\n",
    "    \"Distancia\": [12.5, 8.3, 15.0, 6.2, 10.1],\n",
    "    \"Valor\": [9.2, 6.5, 11, 4.8, 7.9]\n",
    "}\n",
    "\n",
    "df = pd.DataFrame(dados)\n",
    "\n",
    "# Mostrando o DataFrame\n",
    "\n",
    "print(df)\n"
   ]
  },
  {
   "cell_type": "code",
   "execution_count": 5,
   "id": "dd8cf1fb-55a0-4296-8be8-e7022f793899",
   "metadata": {},
   "outputs": [
    {
     "data": {
      "text/plain": [
       "['Narciso', 'João Paulo', 'Lucas', 'Passoca', 'Guilherme']"
      ]
     },
     "execution_count": 5,
     "metadata": {},
     "output_type": "execute_result"
    }
   ],
   "source": [
    "dados[\"Entregador\"]"
   ]
  },
  {
   "cell_type": "code",
   "execution_count": 7,
   "id": "710fd4cd-7d08-46b6-bb31-af90e0886301",
   "metadata": {},
   "outputs": [
    {
     "data": {
      "text/plain": [
       "[12.5, 8.3, 15.0, 6.2, 10.1]"
      ]
     },
     "execution_count": 7,
     "metadata": {},
     "output_type": "execute_result"
    }
   ],
   "source": [
    "dados[\"Distancia\"] "
   ]
  },
  {
   "cell_type": "code",
   "execution_count": 9,
   "id": "6a894c2d-4cc9-448b-8462-1c17c9dc3312",
   "metadata": {},
   "outputs": [
    {
     "data": {
      "text/plain": [
       "[9.2, 6.5, 11, 4.8, 7.9]"
      ]
     },
     "execution_count": 9,
     "metadata": {},
     "output_type": "execute_result"
    }
   ],
   "source": [
    "dados[\"Valor\"]"
   ]
  },
  {
   "cell_type": "code",
   "execution_count": 11,
   "id": "433c63ef-2a8c-4488-b181-45ae12614be2",
   "metadata": {},
   "outputs": [
    {
     "data": {
      "text/html": [
       "<div>\n",
       "<style scoped>\n",
       "    .dataframe tbody tr th:only-of-type {\n",
       "        vertical-align: middle;\n",
       "    }\n",
       "\n",
       "    .dataframe tbody tr th {\n",
       "        vertical-align: top;\n",
       "    }\n",
       "\n",
       "    .dataframe thead th {\n",
       "        text-align: right;\n",
       "    }\n",
       "</style>\n",
       "<table border=\"1\" class=\"dataframe\">\n",
       "  <thead>\n",
       "    <tr style=\"text-align: right;\">\n",
       "      <th></th>\n",
       "      <th>Entregador</th>\n",
       "      <th>Distancia</th>\n",
       "      <th>Valor</th>\n",
       "    </tr>\n",
       "  </thead>\n",
       "  <tbody>\n",
       "    <tr>\n",
       "      <th>0</th>\n",
       "      <td>Narciso</td>\n",
       "      <td>12.5</td>\n",
       "      <td>9.2</td>\n",
       "    </tr>\n",
       "    <tr>\n",
       "      <th>2</th>\n",
       "      <td>Lucas</td>\n",
       "      <td>15.0</td>\n",
       "      <td>11.0</td>\n",
       "    </tr>\n",
       "  </tbody>\n",
       "</table>\n",
       "</div>"
      ],
      "text/plain": [
       "  Entregador  Distancia  Valor\n",
       "0    Narciso       12.5    9.2\n",
       "2      Lucas       15.0   11.0"
      ]
     },
     "execution_count": 11,
     "metadata": {},
     "output_type": "execute_result"
    }
   ],
   "source": [
    "df[df[\"Valor\"] > 8]"
   ]
  },
  {
   "cell_type": "code",
   "execution_count": 13,
   "id": "9e060f54-c20a-4816-ad2a-2d9c2a980b00",
   "metadata": {},
   "outputs": [
    {
     "data": {
      "text/plain": [
       "7.88"
      ]
     },
     "execution_count": 13,
     "metadata": {},
     "output_type": "execute_result"
    }
   ],
   "source": [
    "df[\"Valor\"].mean()"
   ]
  },
  {
   "cell_type": "code",
   "execution_count": 15,
   "id": "14f482e9-3bf4-4240-b306-83f8acbad458",
   "metadata": {},
   "outputs": [
    {
     "data": {
      "text/html": [
       "<div>\n",
       "<style scoped>\n",
       "    .dataframe tbody tr th:only-of-type {\n",
       "        vertical-align: middle;\n",
       "    }\n",
       "\n",
       "    .dataframe tbody tr th {\n",
       "        vertical-align: top;\n",
       "    }\n",
       "\n",
       "    .dataframe thead th {\n",
       "        text-align: right;\n",
       "    }\n",
       "</style>\n",
       "<table border=\"1\" class=\"dataframe\">\n",
       "  <thead>\n",
       "    <tr style=\"text-align: right;\">\n",
       "      <th></th>\n",
       "      <th>Entregador</th>\n",
       "      <th>Distancia</th>\n",
       "      <th>Valor</th>\n",
       "    </tr>\n",
       "  </thead>\n",
       "  <tbody>\n",
       "    <tr>\n",
       "      <th>0</th>\n",
       "      <td>Narciso</td>\n",
       "      <td>12.5</td>\n",
       "      <td>9.2</td>\n",
       "    </tr>\n",
       "    <tr>\n",
       "      <th>2</th>\n",
       "      <td>Lucas</td>\n",
       "      <td>15.0</td>\n",
       "      <td>11.0</td>\n",
       "    </tr>\n",
       "    <tr>\n",
       "      <th>4</th>\n",
       "      <td>Guilherme</td>\n",
       "      <td>10.1</td>\n",
       "      <td>7.9</td>\n",
       "    </tr>\n",
       "  </tbody>\n",
       "</table>\n",
       "</div>"
      ],
      "text/plain": [
       "  Entregador  Distancia  Valor\n",
       "0    Narciso       12.5    9.2\n",
       "2      Lucas       15.0   11.0\n",
       "4  Guilherme       10.1    7.9"
      ]
     },
     "execution_count": 15,
     "metadata": {},
     "output_type": "execute_result"
    }
   ],
   "source": [
    "df[df[\"Valor\"] > df[\"Valor\"].mean()]"
   ]
  },
  {
   "cell_type": "code",
   "execution_count": 17,
   "id": "9593a1e0-f9ed-40fa-8e93-209b50119734",
   "metadata": {},
   "outputs": [
    {
     "data": {
      "text/html": [
       "<div>\n",
       "<style scoped>\n",
       "    .dataframe tbody tr th:only-of-type {\n",
       "        vertical-align: middle;\n",
       "    }\n",
       "\n",
       "    .dataframe tbody tr th {\n",
       "        vertical-align: top;\n",
       "    }\n",
       "\n",
       "    .dataframe thead th {\n",
       "        text-align: right;\n",
       "    }\n",
       "</style>\n",
       "<table border=\"1\" class=\"dataframe\">\n",
       "  <thead>\n",
       "    <tr style=\"text-align: right;\">\n",
       "      <th></th>\n",
       "      <th>Entregador</th>\n",
       "      <th>Distancia</th>\n",
       "      <th>Valor</th>\n",
       "      <th>Valor por km</th>\n",
       "    </tr>\n",
       "  </thead>\n",
       "  <tbody>\n",
       "    <tr>\n",
       "      <th>0</th>\n",
       "      <td>Narciso</td>\n",
       "      <td>12.5</td>\n",
       "      <td>9.2</td>\n",
       "      <td>0.736000</td>\n",
       "    </tr>\n",
       "    <tr>\n",
       "      <th>1</th>\n",
       "      <td>João Paulo</td>\n",
       "      <td>8.3</td>\n",
       "      <td>6.5</td>\n",
       "      <td>0.783133</td>\n",
       "    </tr>\n",
       "    <tr>\n",
       "      <th>2</th>\n",
       "      <td>Lucas</td>\n",
       "      <td>15.0</td>\n",
       "      <td>11.0</td>\n",
       "      <td>0.733333</td>\n",
       "    </tr>\n",
       "    <tr>\n",
       "      <th>3</th>\n",
       "      <td>Passoca</td>\n",
       "      <td>6.2</td>\n",
       "      <td>4.8</td>\n",
       "      <td>0.774194</td>\n",
       "    </tr>\n",
       "    <tr>\n",
       "      <th>4</th>\n",
       "      <td>Guilherme</td>\n",
       "      <td>10.1</td>\n",
       "      <td>7.9</td>\n",
       "      <td>0.782178</td>\n",
       "    </tr>\n",
       "  </tbody>\n",
       "</table>\n",
       "</div>"
      ],
      "text/plain": [
       "   Entregador  Distancia  Valor  Valor por km\n",
       "0     Narciso       12.5    9.2      0.736000\n",
       "1  João Paulo        8.3    6.5      0.783133\n",
       "2       Lucas       15.0   11.0      0.733333\n",
       "3     Passoca        6.2    4.8      0.774194\n",
       "4   Guilherme       10.1    7.9      0.782178"
      ]
     },
     "execution_count": 17,
     "metadata": {},
     "output_type": "execute_result"
    }
   ],
   "source": [
    "df[\"Valor por km\"] = df[\"Valor\"] / df[\"Distancia\"]\n",
    "df"
   ]
  },
  {
   "cell_type": "code",
   "execution_count": null,
   "id": "5fc6ee6d-87b8-4d8b-8028-5cfc1367aac9",
   "metadata": {},
   "outputs": [],
   "source": []
  },
  {
   "cell_type": "code",
   "execution_count": null,
   "id": "a8a9631c-b30d-4af8-95e1-d2b33f1446b4",
   "metadata": {},
   "outputs": [],
   "source": []
  }
 ],
 "metadata": {
  "kernelspec": {
   "display_name": "Python [conda env:base] *",
   "language": "python",
   "name": "conda-base-py"
  },
  "language_info": {
   "codemirror_mode": {
    "name": "ipython",
    "version": 3
   },
   "file_extension": ".py",
   "mimetype": "text/x-python",
   "name": "python",
   "nbconvert_exporter": "python",
   "pygments_lexer": "ipython3",
   "version": "3.12.7"
  }
 },
 "nbformat": 4,
 "nbformat_minor": 5
}

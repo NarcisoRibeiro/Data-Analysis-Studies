{
 "cells": [
  {
   "cell_type": "markdown",
   "id": "8397d4a8-a9ca-4df7-8c52-6477c80a049a",
   "metadata": {},
   "source": [
    "## 1. Python & Data Analysis Basics\n",
    "\n",
    "In this section, I’ll review:\n",
    "- Python fundamentals (lists, dictionaries, functions)\n",
    "- Loading and saving CSV files with pandas\n",
    "- Exploring the structure of a DataFrame using `.head()`, `.info()`, `.shape`, and `.dtypes`\n",
    "\n",
    "This topic helps build the foundation to inspect datasets and understand their structure before analysis."
   ]
  },
  {
   "cell_type": "code",
   "execution_count": 7,
   "id": "6152d1ed-01ea-4301-a83e-f6f41ea9004a",
   "metadata": {},
   "outputs": [
    {
     "name": "stdout",
     "output_type": "stream",
     "text": [
      "Average daily expense: €23.50\n"
     ]
    }
   ],
   "source": [
    "# Example of working with a dictionary and a simple function \n",
    "expenses = {'Monday': 23.5, 'Tuesday': 17.0, 'Wednesday': 30.0}\n",
    "\n",
    "def daily_average(expense_dict):\n",
    "    return sum(expense_dict.values()) / len(expense_dict)\n",
    "\n",
    "print(f'Average daily expense: €{daily_average(expenses):.2f}')\n",
    "\n",
    "## Doubt: Couldnt it be done using groupby and .mean()?\n",
    "# Answer: sum()/len() is python native, while groupby().mean() is ideal when workind with pandas."
   ]
  },
  {
   "cell_type": "code",
   "execution_count": 11,
   "id": "18f75c1f-ba57-45ea-acd6-de6a1164c22b",
   "metadata": {},
   "outputs": [],
   "source": [
    "# Load CSV with pandas\n",
    "import pandas as pd\n",
    "\n",
    "# Load dataset from a public URL\n",
    "df = pd.read_csv('https://raw.githubusercontent.com/mwaskom/seaborn-data/master/tips.csv')"
   ]
  },
  {
   "cell_type": "code",
   "execution_count": 21,
   "id": "3192411e-c51a-4033-b61c-0a9dd7047bbd",
   "metadata": {},
   "outputs": [
    {
     "data": {
      "text/html": [
       "<div>\n",
       "<style scoped>\n",
       "    .dataframe tbody tr th:only-of-type {\n",
       "        vertical-align: middle;\n",
       "    }\n",
       "\n",
       "    .dataframe tbody tr th {\n",
       "        vertical-align: top;\n",
       "    }\n",
       "\n",
       "    .dataframe thead th {\n",
       "        text-align: right;\n",
       "    }\n",
       "</style>\n",
       "<table border=\"1\" class=\"dataframe\">\n",
       "  <thead>\n",
       "    <tr style=\"text-align: right;\">\n",
       "      <th></th>\n",
       "      <th>total_bill</th>\n",
       "      <th>tip</th>\n",
       "      <th>sex</th>\n",
       "      <th>smoker</th>\n",
       "      <th>day</th>\n",
       "      <th>time</th>\n",
       "      <th>size</th>\n",
       "    </tr>\n",
       "  </thead>\n",
       "  <tbody>\n",
       "    <tr>\n",
       "      <th>0</th>\n",
       "      <td>16.99</td>\n",
       "      <td>1.01</td>\n",
       "      <td>Female</td>\n",
       "      <td>No</td>\n",
       "      <td>Sun</td>\n",
       "      <td>Dinner</td>\n",
       "      <td>2</td>\n",
       "    </tr>\n",
       "    <tr>\n",
       "      <th>1</th>\n",
       "      <td>10.34</td>\n",
       "      <td>1.66</td>\n",
       "      <td>Male</td>\n",
       "      <td>No</td>\n",
       "      <td>Sun</td>\n",
       "      <td>Dinner</td>\n",
       "      <td>3</td>\n",
       "    </tr>\n",
       "    <tr>\n",
       "      <th>2</th>\n",
       "      <td>21.01</td>\n",
       "      <td>3.50</td>\n",
       "      <td>Male</td>\n",
       "      <td>No</td>\n",
       "      <td>Sun</td>\n",
       "      <td>Dinner</td>\n",
       "      <td>3</td>\n",
       "    </tr>\n",
       "    <tr>\n",
       "      <th>3</th>\n",
       "      <td>23.68</td>\n",
       "      <td>3.31</td>\n",
       "      <td>Male</td>\n",
       "      <td>No</td>\n",
       "      <td>Sun</td>\n",
       "      <td>Dinner</td>\n",
       "      <td>2</td>\n",
       "    </tr>\n",
       "    <tr>\n",
       "      <th>4</th>\n",
       "      <td>24.59</td>\n",
       "      <td>3.61</td>\n",
       "      <td>Female</td>\n",
       "      <td>No</td>\n",
       "      <td>Sun</td>\n",
       "      <td>Dinner</td>\n",
       "      <td>4</td>\n",
       "    </tr>\n",
       "  </tbody>\n",
       "</table>\n",
       "</div>"
      ],
      "text/plain": [
       "   total_bill   tip     sex smoker  day    time  size\n",
       "0       16.99  1.01  Female     No  Sun  Dinner     2\n",
       "1       10.34  1.66    Male     No  Sun  Dinner     3\n",
       "2       21.01  3.50    Male     No  Sun  Dinner     3\n",
       "3       23.68  3.31    Male     No  Sun  Dinner     2\n",
       "4       24.59  3.61  Female     No  Sun  Dinner     4"
      ]
     },
     "execution_count": 21,
     "metadata": {},
     "output_type": "execute_result"
    }
   ],
   "source": [
    "# Preview and inspect the dataset\n",
    "df.head()"
   ]
  },
  {
   "cell_type": "code",
   "execution_count": 27,
   "id": "b8b291b7-90dc-44fe-be87-3e1bdf04a472",
   "metadata": {},
   "outputs": [
    {
     "data": {
      "text/plain": [
       "(244, 7)"
      ]
     },
     "execution_count": 27,
     "metadata": {},
     "output_type": "execute_result"
    }
   ],
   "source": [
    "df.shape"
   ]
  },
  {
   "cell_type": "code",
   "execution_count": 31,
   "id": "4513c8d3-f5ef-4289-b3d6-0dfc103bdfd1",
   "metadata": {},
   "outputs": [
    {
     "name": "stdout",
     "output_type": "stream",
     "text": [
      "<class 'pandas.core.frame.DataFrame'>\n",
      "RangeIndex: 244 entries, 0 to 243\n",
      "Data columns (total 7 columns):\n",
      " #   Column      Non-Null Count  Dtype  \n",
      "---  ------      --------------  -----  \n",
      " 0   total_bill  244 non-null    float64\n",
      " 1   tip         244 non-null    float64\n",
      " 2   sex         244 non-null    object \n",
      " 3   smoker      244 non-null    object \n",
      " 4   day         244 non-null    object \n",
      " 5   time        244 non-null    object \n",
      " 6   size        244 non-null    int64  \n",
      "dtypes: float64(2), int64(1), object(4)\n",
      "memory usage: 13.5+ KB\n"
     ]
    }
   ],
   "source": [
    "df.info()"
   ]
  },
  {
   "cell_type": "code",
   "execution_count": 33,
   "id": "e0c17bd0-a004-4b6a-8e83-2893e1bd876b",
   "metadata": {},
   "outputs": [
    {
     "data": {
      "text/plain": [
       "total_bill    float64\n",
       "tip           float64\n",
       "sex            object\n",
       "smoker         object\n",
       "day            object\n",
       "time           object\n",
       "size            int64\n",
       "dtype: object"
      ]
     },
     "execution_count": 33,
     "metadata": {},
     "output_type": "execute_result"
    }
   ],
   "source": [
    "df.dtypes"
   ]
  },
  {
   "cell_type": "markdown",
   "id": "93f4d392-f815-4fe8-bc4d-d2d8faabb1ce",
   "metadata": {},
   "source": [
    "### Summary: What I Learned\n",
    "\n",
    "- `.info()` gives a quick overview of the columns, non-null counts, and data types.\n",
    "- `.dtypes` helps verify whether variables like `total_bill` are numeric.\n",
    "- Data types matter — for example, dates must be converted or they won’t work in filters.\n",
    "- The `tips` dataset has X rows and Y columns, and looks like restaurant billing data (subjective description).\n"
   ]
  },
  {
   "cell_type": "markdown",
   "id": "630d1b4f-5d4e-4e0e-a3b8-4379781e27f9",
   "metadata": {},
   "source": [
    "## 2. Data Cleaning & Transformation\n",
    "\n",
    "In this section, I’ll explore key pandas methods to clean and transform data:\n",
    "- Identify and handle missing values .dropna(), .fillna()\n",
    "- Filter rows based on conditions\n",
    "- Create new columns with logic or calculations\n",
    "- Use `.apply()` to transform data\n",
    "- Remove duplicates\n",
    "- Sort data and reset index\n",
    "\n",
    "This step is crucial to prepare raw datasets for meaningful analysis."
   ]
  },
  {
   "cell_type": "code",
   "execution_count": 35,
   "id": "15bb8753-a23d-4245-aec0-d2311457a34b",
   "metadata": {},
   "outputs": [],
   "source": [
    "# Handling Missing Values\n",
    "\n",
    "df.loc[0:2, 'tip'] = None\n",
    "\n",
    "# Check for nulls \n",
    "df.isnull().sum()\n",
    "\n",
    "# Fill missing values with the mean\n",
    "df['tip'] = df['tip'].fillna(df['tip'].mean())\n",
    "\n",
    "# Alternatively, drop rows with any nulls (df = df.dropna())"
   ]
  },
  {
   "cell_type": "code",
   "execution_count": 39,
   "id": "de0515b2-bc33-4cfc-b68e-3dafa079bd3d",
   "metadata": {},
   "outputs": [
    {
     "data": {
      "text/html": [
       "<div>\n",
       "<style scoped>\n",
       "    .dataframe tbody tr th:only-of-type {\n",
       "        vertical-align: middle;\n",
       "    }\n",
       "\n",
       "    .dataframe tbody tr th {\n",
       "        vertical-align: top;\n",
       "    }\n",
       "\n",
       "    .dataframe thead th {\n",
       "        text-align: right;\n",
       "    }\n",
       "</style>\n",
       "<table border=\"1\" class=\"dataframe\">\n",
       "  <thead>\n",
       "    <tr style=\"text-align: right;\">\n",
       "      <th></th>\n",
       "      <th>total_bill</th>\n",
       "      <th>tip</th>\n",
       "      <th>sex</th>\n",
       "      <th>smoker</th>\n",
       "      <th>day</th>\n",
       "      <th>time</th>\n",
       "      <th>size</th>\n",
       "    </tr>\n",
       "  </thead>\n",
       "  <tbody>\n",
       "    <tr>\n",
       "      <th>11</th>\n",
       "      <td>35.26</td>\n",
       "      <td>5.00</td>\n",
       "      <td>Female</td>\n",
       "      <td>No</td>\n",
       "      <td>Sun</td>\n",
       "      <td>Dinner</td>\n",
       "      <td>4</td>\n",
       "    </tr>\n",
       "    <tr>\n",
       "      <th>23</th>\n",
       "      <td>39.42</td>\n",
       "      <td>7.58</td>\n",
       "      <td>Male</td>\n",
       "      <td>No</td>\n",
       "      <td>Sat</td>\n",
       "      <td>Dinner</td>\n",
       "      <td>4</td>\n",
       "    </tr>\n",
       "    <tr>\n",
       "      <th>39</th>\n",
       "      <td>31.27</td>\n",
       "      <td>5.00</td>\n",
       "      <td>Male</td>\n",
       "      <td>No</td>\n",
       "      <td>Sat</td>\n",
       "      <td>Dinner</td>\n",
       "      <td>3</td>\n",
       "    </tr>\n",
       "    <tr>\n",
       "      <th>44</th>\n",
       "      <td>30.40</td>\n",
       "      <td>5.60</td>\n",
       "      <td>Male</td>\n",
       "      <td>No</td>\n",
       "      <td>Sun</td>\n",
       "      <td>Dinner</td>\n",
       "      <td>4</td>\n",
       "    </tr>\n",
       "    <tr>\n",
       "      <th>47</th>\n",
       "      <td>32.40</td>\n",
       "      <td>6.00</td>\n",
       "      <td>Male</td>\n",
       "      <td>No</td>\n",
       "      <td>Sun</td>\n",
       "      <td>Dinner</td>\n",
       "      <td>4</td>\n",
       "    </tr>\n",
       "  </tbody>\n",
       "</table>\n",
       "</div>"
      ],
      "text/plain": [
       "    total_bill   tip     sex smoker  day    time  size\n",
       "11       35.26  5.00  Female     No  Sun  Dinner     4\n",
       "23       39.42  7.58    Male     No  Sat  Dinner     4\n",
       "39       31.27  5.00    Male     No  Sat  Dinner     3\n",
       "44       30.40  5.60    Male     No  Sun  Dinner     4\n",
       "47       32.40  6.00    Male     No  Sun  Dinner     4"
      ]
     },
     "execution_count": 39,
     "metadata": {},
     "output_type": "execute_result"
    }
   ],
   "source": [
    "# Filter for high bills over €30\n",
    "high_bills = df[df['total_bill'] > 30]\n",
    "high_bills.head()"
   ]
  },
  {
   "cell_type": "code",
   "execution_count": 49,
   "id": "9c1c01e9-73e8-41c9-a16d-8c166937bb42",
   "metadata": {},
   "outputs": [
    {
     "ename": "SyntaxError",
     "evalue": "invalid syntax (3703020661.py, line 3)",
     "output_type": "error",
     "traceback": [
      "\u001b[1;36m  Cell \u001b[1;32mIn[49], line 3\u001b[1;36m\u001b[0m\n\u001b[1;33m    df['tip_percentage'] = df['tip'] / df['total_bill'] * 100 {'%'}\u001b[0m\n\u001b[1;37m                                                              ^\u001b[0m\n\u001b[1;31mSyntaxError\u001b[0m\u001b[1;31m:\u001b[0m invalid syntax\n"
     ]
    }
   ],
   "source": [
    "# Calculate tip percentage\n",
    "\n",
    "df['tip_percentage'] = df['tip'] / df['total_bill'] * 100 {'%'}\n",
    "df[['total_bill', 'tip', 'tip_percentage']].head()"
   ]
  },
  {
   "cell_type": "code",
   "execution_count": null,
   "id": "7f53c297-d705-41d1-b86c-8cf19055d3b8",
   "metadata": {},
   "outputs": [],
   "source": []
  }
 ],
 "metadata": {
  "kernelspec": {
   "display_name": "Python [conda env:base] *",
   "language": "python",
   "name": "conda-base-py"
  },
  "language_info": {
   "codemirror_mode": {
    "name": "ipython",
    "version": 3
   },
   "file_extension": ".py",
   "mimetype": "text/x-python",
   "name": "python",
   "nbconvert_exporter": "python",
   "pygments_lexer": "ipython3",
   "version": "3.12.7"
  }
 },
 "nbformat": 4,
 "nbformat_minor": 5
}

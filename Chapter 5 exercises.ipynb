{
 "cells": [
  {
   "cell_type": "code",
   "execution_count": 1,
   "id": "8a309885-7c4e-44ce-a4d3-336a3f5866c1",
   "metadata": {},
   "outputs": [
    {
     "name": "stdout",
     "output_type": "stream",
     "text": [
      "0    4\n",
      "1    7\n",
      "2   -5\n",
      "3    3\n",
      "dtype: int64\n"
     ]
    }
   ],
   "source": [
    "import pandas as pd\n",
    "\n",
    "obj = pd.Series([4, 7, -5, 3])\n",
    "print(obj)"
   ]
  },
  {
   "cell_type": "code",
   "execution_count": 15,
   "id": "9a06ab7f-6fe2-417d-b84d-4f0b1cc9844b",
   "metadata": {},
   "outputs": [
    {
     "name": "stdout",
     "output_type": "stream",
     "text": [
      "Mon    22\n",
      "Tue    25\n",
      "Wed    19\n",
      "Thu    24\n",
      "dtype: int64\n"
     ]
    }
   ],
   "source": [
    "import pandas as pd\n",
    "\n",
    "temperature = pd.Series([22, 25, 19, 24], index=['Mon', 'Tue', 'Wed', 'Thu'])\n",
    "print(temperature)"
   ]
  },
  {
   "cell_type": "code",
   "execution_count": 17,
   "id": "5f5d4884-d048-4a61-ac98-033c35a1b618",
   "metadata": {},
   "outputs": [
    {
     "name": "stdout",
     "output_type": "stream",
     "text": [
      "19\n"
     ]
    }
   ],
   "source": [
    "print(temperature['Wed'])"
   ]
  },
  {
   "cell_type": "code",
   "execution_count": 19,
   "id": "e7abae75-917e-42e7-b535-da783ef7948a",
   "metadata": {},
   "outputs": [
    {
     "name": "stdout",
     "output_type": "stream",
     "text": [
      "Portugal    10300300.0\n",
      "Spain       47000000.0\n",
      "Italy              NaN\n",
      "dtype: float64\n"
     ]
    }
   ],
   "source": [
    "population_data = {'Portugal': 10_300_300, 'Spain': 47_000_000, 'France': 67_000_0000}\n",
    "population = pd.Series(population_data, index=['Portugal', 'Spain', 'Italy'])\n",
    "print(population)"
   ]
  },
  {
   "cell_type": "code",
   "execution_count": 25,
   "id": "67435462-4c56-4957-b23a-4b891a7f0eb9",
   "metadata": {},
   "outputs": [
    {
     "name": "stdout",
     "output_type": "stream",
     "text": [
      "    state  year   pop\n",
      "0  Lisboa  2010  5.50\n",
      "1   Porto  2010  2.40\n",
      "2  Lisboa  2020  5.05\n",
      "3   Porto  2020  2.30\n"
     ]
    }
   ],
   "source": [
    "cidades = {\n",
    "    'state': ['Lisboa', 'Porto', 'Lisboa', 'Porto'],\n",
    "    'year': [2010, 2010, 2020, 2020],\n",
    "    'pop': [5.50, 2.40, 5.05, 2.30]\n",
    "}\n",
    "\n",
    "df = pd.DataFrame(cidades)\n",
    "print(df)"
   ]
  },
  {
   "cell_type": "code",
   "execution_count": 27,
   "id": "190ef7a8-51a9-47f5-86dc-5874243d43ad",
   "metadata": {},
   "outputs": [
    {
     "data": {
      "text/plain": [
       "0    5.50\n",
       "1    2.40\n",
       "2    5.05\n",
       "3    2.30\n",
       "Name: pop, dtype: float64"
      ]
     },
     "execution_count": 27,
     "metadata": {},
     "output_type": "execute_result"
    }
   ],
   "source": [
    "df['pop']"
   ]
  },
  {
   "cell_type": "code",
   "execution_count": 31,
   "id": "b43e6304-1fae-4efc-9f72-ba7c20477d54",
   "metadata": {},
   "outputs": [
    {
     "data": {
      "text/html": [
       "<div>\n",
       "<style scoped>\n",
       "    .dataframe tbody tr th:only-of-type {\n",
       "        vertical-align: middle;\n",
       "    }\n",
       "\n",
       "    .dataframe tbody tr th {\n",
       "        vertical-align: top;\n",
       "    }\n",
       "\n",
       "    .dataframe thead th {\n",
       "        text-align: right;\n",
       "    }\n",
       "</style>\n",
       "<table border=\"1\" class=\"dataframe\">\n",
       "  <thead>\n",
       "    <tr style=\"text-align: right;\">\n",
       "      <th></th>\n",
       "      <th>state</th>\n",
       "      <th>year</th>\n",
       "      <th>pop</th>\n",
       "    </tr>\n",
       "  </thead>\n",
       "  <tbody>\n",
       "    <tr>\n",
       "      <th>2</th>\n",
       "      <td>Lisboa</td>\n",
       "      <td>2020</td>\n",
       "      <td>5.05</td>\n",
       "    </tr>\n",
       "    <tr>\n",
       "      <th>3</th>\n",
       "      <td>Porto</td>\n",
       "      <td>2020</td>\n",
       "      <td>2.30</td>\n",
       "    </tr>\n",
       "  </tbody>\n",
       "</table>\n",
       "</div>"
      ],
      "text/plain": [
       "    state  year   pop\n",
       "2  Lisboa  2020  5.05\n",
       "3   Porto  2020  2.30"
      ]
     },
     "execution_count": 31,
     "metadata": {},
     "output_type": "execute_result"
    }
   ],
   "source": [
    "df[df['year'] == 2020]"
   ]
  },
  {
   "cell_type": "code",
   "execution_count": 57,
   "id": "c26a9933-3e02-4a24-8250-97c9899f350c",
   "metadata": {},
   "outputs": [
    {
     "name": "stdout",
     "output_type": "stream",
     "text": [
      "Portugal    100\n",
      "Espanha     200\n",
      "França      300\n",
      "dtype: int64\n"
     ]
    }
   ],
   "source": [
    "dados = pd.Series([100, 200, 300], index=['Portugal', 'Espanha', 'França'])"
   ]
  },
  {
   "cell_type": "code",
   "execution_count": 67,
   "id": "d4d92277-49e0-485c-a130-9c48fd1f88bf",
   "metadata": {},
   "outputs": [
    {
     "name": "stdout",
     "output_type": "stream",
     "text": [
      "Portugal    100.0\n",
      "França      300.0\n",
      "Itália        NaN\n",
      "Alemanha      NaN\n",
      "dtype: float64\n"
     ]
    }
   ],
   "source": [
    "dados2 = dados.reindex(['Portugal', 'França', 'Itália', 'Alemanha'])\n",
    "print(dados2)"
   ]
  },
  {
   "cell_type": "code",
   "execution_count": 71,
   "id": "e0a96581-d647-4128-9db6-e946b4542185",
   "metadata": {},
   "outputs": [
    {
     "name": "stdout",
     "output_type": "stream",
     "text": [
      "Portugal    100.0\n",
      "França      300.0\n",
      "Itália        NaN\n",
      "Alemanha      NaN\n",
      "dtype: float64\n"
     ]
    }
   ],
   "source": [
    "dados3 = dados2.reindex(['Portugal', 'França', 'Itália', 'Alemanha'], method='ffill')\n",
    "print(dados3)"
   ]
  },
  {
   "cell_type": "code",
   "execution_count": 79,
   "id": "deeb1bc8-17dd-4db8-ba0f-2948143c9381",
   "metadata": {},
   "outputs": [
    {
     "data": {
      "text/html": [
       "<div>\n",
       "<style scoped>\n",
       "    .dataframe tbody tr th:only-of-type {\n",
       "        vertical-align: middle;\n",
       "    }\n",
       "\n",
       "    .dataframe tbody tr th {\n",
       "        vertical-align: top;\n",
       "    }\n",
       "\n",
       "    .dataframe thead th {\n",
       "        text-align: right;\n",
       "    }\n",
       "</style>\n",
       "<table border=\"1\" class=\"dataframe\">\n",
       "  <thead>\n",
       "    <tr style=\"text-align: right;\">\n",
       "      <th></th>\n",
       "      <th>nome</th>\n",
       "      <th>idade</th>\n",
       "      <th>salário</th>\n",
       "    </tr>\n",
       "  </thead>\n",
       "  <tbody>\n",
       "    <tr>\n",
       "      <th>0</th>\n",
       "      <td>Ana</td>\n",
       "      <td>23</td>\n",
       "      <td>1200</td>\n",
       "    </tr>\n",
       "    <tr>\n",
       "      <th>1</th>\n",
       "      <td>Bruno</td>\n",
       "      <td>35</td>\n",
       "      <td>2500</td>\n",
       "    </tr>\n",
       "    <tr>\n",
       "      <th>2</th>\n",
       "      <td>Carlos</td>\n",
       "      <td>45</td>\n",
       "      <td>4000</td>\n",
       "    </tr>\n",
       "    <tr>\n",
       "      <th>3</th>\n",
       "      <td>Diana</td>\n",
       "      <td>29</td>\n",
       "      <td>2300</td>\n",
       "    </tr>\n",
       "  </tbody>\n",
       "</table>\n",
       "</div>"
      ],
      "text/plain": [
       "     nome  idade  salário\n",
       "0     Ana     23     1200\n",
       "1   Bruno     35     2500\n",
       "2  Carlos     45     4000\n",
       "3   Diana     29     2300"
      ]
     },
     "execution_count": 79,
     "metadata": {},
     "output_type": "execute_result"
    }
   ],
   "source": [
    "data = {\n",
    "    'nome': ['Ana', 'Bruno', 'Carlos', 'Diana'],\n",
    "    'idade': [23, 35, 45, 29],\n",
    "    'salário': [1200, 2500, 4000, 2300]\n",
    "}\n",
    "\n",
    "df = pd.DataFrame(data)\n",
    "df"
   ]
  },
  {
   "cell_type": "code",
   "execution_count": 85,
   "id": "a97be3b6-197f-4997-be4c-5ae8dcfa52ed",
   "metadata": {},
   "outputs": [
    {
     "data": {
      "text/html": [
       "<div>\n",
       "<style scoped>\n",
       "    .dataframe tbody tr th:only-of-type {\n",
       "        vertical-align: middle;\n",
       "    }\n",
       "\n",
       "    .dataframe tbody tr th {\n",
       "        vertical-align: top;\n",
       "    }\n",
       "\n",
       "    .dataframe thead th {\n",
       "        text-align: right;\n",
       "    }\n",
       "</style>\n",
       "<table border=\"1\" class=\"dataframe\">\n",
       "  <thead>\n",
       "    <tr style=\"text-align: right;\">\n",
       "      <th></th>\n",
       "      <th>nome</th>\n",
       "      <th>idade</th>\n",
       "      <th>salário</th>\n",
       "    </tr>\n",
       "  </thead>\n",
       "  <tbody>\n",
       "    <tr>\n",
       "      <th>0</th>\n",
       "      <td>Ana</td>\n",
       "      <td>23</td>\n",
       "      <td>1200</td>\n",
       "    </tr>\n",
       "    <tr>\n",
       "      <th>1</th>\n",
       "      <td>Bruno</td>\n",
       "      <td>35</td>\n",
       "      <td>2500</td>\n",
       "    </tr>\n",
       "    <tr>\n",
       "      <th>3</th>\n",
       "      <td>Diana</td>\n",
       "      <td>29</td>\n",
       "      <td>2300</td>\n",
       "    </tr>\n",
       "  </tbody>\n",
       "</table>\n",
       "</div>"
      ],
      "text/plain": [
       "    nome  idade  salário\n",
       "0    Ana     23     1200\n",
       "1  Bruno     35     2500\n",
       "3  Diana     29     2300"
      ]
     },
     "execution_count": 85,
     "metadata": {},
     "output_type": "execute_result"
    }
   ],
   "source": [
    "df.drop(2)"
   ]
  },
  {
   "cell_type": "code",
   "execution_count": 95,
   "id": "cae0a011-6d58-4bd6-ba56-8f24f1f6d433",
   "metadata": {},
   "outputs": [
    {
     "data": {
      "text/html": [
       "<div>\n",
       "<style scoped>\n",
       "    .dataframe tbody tr th:only-of-type {\n",
       "        vertical-align: middle;\n",
       "    }\n",
       "\n",
       "    .dataframe tbody tr th {\n",
       "        vertical-align: top;\n",
       "    }\n",
       "\n",
       "    .dataframe thead th {\n",
       "        text-align: right;\n",
       "    }\n",
       "</style>\n",
       "<table border=\"1\" class=\"dataframe\">\n",
       "  <thead>\n",
       "    <tr style=\"text-align: right;\">\n",
       "      <th></th>\n",
       "      <th>nome</th>\n",
       "      <th>idade</th>\n",
       "      <th>salário</th>\n",
       "      <th>dobro_salario</th>\n",
       "    </tr>\n",
       "  </thead>\n",
       "  <tbody>\n",
       "    <tr>\n",
       "      <th>0</th>\n",
       "      <td>Ana</td>\n",
       "      <td>23</td>\n",
       "      <td>1200</td>\n",
       "      <td>2400</td>\n",
       "    </tr>\n",
       "    <tr>\n",
       "      <th>1</th>\n",
       "      <td>Bruno</td>\n",
       "      <td>35</td>\n",
       "      <td>2500</td>\n",
       "      <td>5000</td>\n",
       "    </tr>\n",
       "    <tr>\n",
       "      <th>2</th>\n",
       "      <td>Carlos</td>\n",
       "      <td>45</td>\n",
       "      <td>4000</td>\n",
       "      <td>8000</td>\n",
       "    </tr>\n",
       "    <tr>\n",
       "      <th>3</th>\n",
       "      <td>Diana</td>\n",
       "      <td>29</td>\n",
       "      <td>2300</td>\n",
       "      <td>4600</td>\n",
       "    </tr>\n",
       "  </tbody>\n",
       "</table>\n",
       "</div>"
      ],
      "text/plain": [
       "     nome  idade  salário  dobro_salario\n",
       "0     Ana     23     1200           2400\n",
       "1   Bruno     35     2500           5000\n",
       "2  Carlos     45     4000           8000\n",
       "3   Diana     29     2300           4600"
      ]
     },
     "execution_count": 95,
     "metadata": {},
     "output_type": "execute_result"
    }
   ],
   "source": [
    "df['dobro_salario'] = df['salário'] * 2\n",
    "df"
   ]
  },
  {
   "cell_type": "code",
   "execution_count": 107,
   "id": "6e5f1f15-fba6-4799-be44-6012967a064a",
   "metadata": {},
   "outputs": [
    {
     "data": {
      "text/html": [
       "<div>\n",
       "<style scoped>\n",
       "    .dataframe tbody tr th:only-of-type {\n",
       "        vertical-align: middle;\n",
       "    }\n",
       "\n",
       "    .dataframe tbody tr th {\n",
       "        vertical-align: top;\n",
       "    }\n",
       "\n",
       "    .dataframe thead th {\n",
       "        text-align: right;\n",
       "    }\n",
       "</style>\n",
       "<table border=\"1\" class=\"dataframe\">\n",
       "  <thead>\n",
       "    <tr style=\"text-align: right;\">\n",
       "      <th></th>\n",
       "      <th>nome</th>\n",
       "      <th>idade</th>\n",
       "      <th>salário</th>\n",
       "      <th>dobro_salario</th>\n",
       "    </tr>\n",
       "  </thead>\n",
       "  <tbody>\n",
       "    <tr>\n",
       "      <th>1</th>\n",
       "      <td>Bruno</td>\n",
       "      <td>35</td>\n",
       "      <td>2500</td>\n",
       "      <td>5000</td>\n",
       "    </tr>\n",
       "  </tbody>\n",
       "</table>\n",
       "</div>"
      ],
      "text/plain": [
       "    nome  idade  salário  dobro_salario\n",
       "1  Bruno     35     2500           5000"
      ]
     },
     "execution_count": 107,
     "metadata": {},
     "output_type": "execute_result"
    }
   ],
   "source": [
    "df[(df['idade'] > 30) & (df['salário'] < 3000)]"
   ]
  },
  {
   "cell_type": "code",
   "execution_count": 115,
   "id": "a780e7df-5b18-4e53-9c63-c433ba8d57a4",
   "metadata": {},
   "outputs": [
    {
     "data": {
      "text/html": [
       "<div>\n",
       "<style scoped>\n",
       "    .dataframe tbody tr th:only-of-type {\n",
       "        vertical-align: middle;\n",
       "    }\n",
       "\n",
       "    .dataframe tbody tr th {\n",
       "        vertical-align: top;\n",
       "    }\n",
       "\n",
       "    .dataframe thead th {\n",
       "        text-align: right;\n",
       "    }\n",
       "</style>\n",
       "<table border=\"1\" class=\"dataframe\">\n",
       "  <thead>\n",
       "    <tr style=\"text-align: right;\">\n",
       "      <th></th>\n",
       "      <th>poeta</th>\n",
       "      <th>ano_nascimento</th>\n",
       "      <th>obra_principal</th>\n",
       "    </tr>\n",
       "  </thead>\n",
       "  <tbody>\n",
       "    <tr>\n",
       "      <th>0</th>\n",
       "      <td>Eliot</td>\n",
       "      <td>1888.0</td>\n",
       "      <td>Four Quartets</td>\n",
       "    </tr>\n",
       "    <tr>\n",
       "      <th>1</th>\n",
       "      <td>Frost</td>\n",
       "      <td>1874.0</td>\n",
       "      <td>The Road not taken</td>\n",
       "    </tr>\n",
       "    <tr>\n",
       "      <th>2</th>\n",
       "      <td>Milton</td>\n",
       "      <td>NaN</td>\n",
       "      <td>Paradise Lost</td>\n",
       "    </tr>\n",
       "    <tr>\n",
       "      <th>3</th>\n",
       "      <td>Wordsworth</td>\n",
       "      <td>1770.0</td>\n",
       "      <td>NaN</td>\n",
       "    </tr>\n",
       "  </tbody>\n",
       "</table>\n",
       "</div>"
      ],
      "text/plain": [
       "        poeta  ano_nascimento      obra_principal\n",
       "0       Eliot          1888.0       Four Quartets\n",
       "1       Frost          1874.0  The Road not taken\n",
       "2      Milton             NaN       Paradise Lost\n",
       "3  Wordsworth          1770.0                 NaN"
      ]
     },
     "execution_count": 115,
     "metadata": {},
     "output_type": "execute_result"
    }
   ],
   "source": [
    "import numpy as np \n",
    "import pandas as pd \n",
    "\n",
    "data = {\n",
    "    'poeta': ['Eliot', 'Frost', 'Milton', 'Wordsworth'],\n",
    "    'ano_nascimento': [1888, 1874, np.nan, 1770],\n",
    "    'obra_principal': ['Four Quartets', 'The Road not taken', 'Paradise Lost', np.nan, ]\n",
    "}\n",
    "\n",
    "df = pd.DataFrame(data)\n",
    "df"
   ]
  },
  {
   "cell_type": "code",
   "execution_count": 140,
   "id": "2de683b2-0ba6-4203-9373-6c3063a0b40e",
   "metadata": {},
   "outputs": [
    {
     "data": {
      "text/html": [
       "<div>\n",
       "<style scoped>\n",
       "    .dataframe tbody tr th:only-of-type {\n",
       "        vertical-align: middle;\n",
       "    }\n",
       "\n",
       "    .dataframe tbody tr th {\n",
       "        vertical-align: top;\n",
       "    }\n",
       "\n",
       "    .dataframe thead th {\n",
       "        text-align: right;\n",
       "    }\n",
       "</style>\n",
       "<table border=\"1\" class=\"dataframe\">\n",
       "  <thead>\n",
       "    <tr style=\"text-align: right;\">\n",
       "      <th></th>\n",
       "      <th>poeta</th>\n",
       "      <th>ano_nascimento</th>\n",
       "      <th>obra_principal</th>\n",
       "    </tr>\n",
       "  </thead>\n",
       "  <tbody>\n",
       "    <tr>\n",
       "      <th>0</th>\n",
       "      <td>Eliot</td>\n",
       "      <td>1888.0</td>\n",
       "      <td>Four Quartets</td>\n",
       "    </tr>\n",
       "    <tr>\n",
       "      <th>1</th>\n",
       "      <td>Frost</td>\n",
       "      <td>1874.0</td>\n",
       "      <td>The Road not taken</td>\n",
       "    </tr>\n",
       "    <tr>\n",
       "      <th>2</th>\n",
       "      <td>Milton</td>\n",
       "      <td>NaN</td>\n",
       "      <td>Paradise Lost</td>\n",
       "    </tr>\n",
       "    <tr>\n",
       "      <th>3</th>\n",
       "      <td>Wordsworth</td>\n",
       "      <td>1770.0</td>\n",
       "      <td>NaN</td>\n",
       "    </tr>\n",
       "  </tbody>\n",
       "</table>\n",
       "</div>"
      ],
      "text/plain": [
       "        poeta  ano_nascimento      obra_principal\n",
       "0       Eliot          1888.0       Four Quartets\n",
       "1       Frost          1874.0  The Road not taken\n",
       "2      Milton             NaN       Paradise Lost\n",
       "3  Wordsworth          1770.0                 NaN"
      ]
     },
     "execution_count": 140,
     "metadata": {},
     "output_type": "execute_result"
    }
   ],
   "source": [
    "df_limpo = df.copy()\n",
    "df_limpo"
   ]
  },
  {
   "cell_type": "code",
   "execution_count": 142,
   "id": "7c724bc1-853a-479f-805f-84201b5686c4",
   "metadata": {},
   "outputs": [
    {
     "data": {
      "text/html": [
       "<div>\n",
       "<style scoped>\n",
       "    .dataframe tbody tr th:only-of-type {\n",
       "        vertical-align: middle;\n",
       "    }\n",
       "\n",
       "    .dataframe tbody tr th {\n",
       "        vertical-align: top;\n",
       "    }\n",
       "\n",
       "    .dataframe thead th {\n",
       "        text-align: right;\n",
       "    }\n",
       "</style>\n",
       "<table border=\"1\" class=\"dataframe\">\n",
       "  <thead>\n",
       "    <tr style=\"text-align: right;\">\n",
       "      <th></th>\n",
       "      <th>poeta</th>\n",
       "      <th>ano_nascimento</th>\n",
       "      <th>obra_principal</th>\n",
       "    </tr>\n",
       "  </thead>\n",
       "  <tbody>\n",
       "    <tr>\n",
       "      <th>0</th>\n",
       "      <td>False</td>\n",
       "      <td>False</td>\n",
       "      <td>False</td>\n",
       "    </tr>\n",
       "    <tr>\n",
       "      <th>1</th>\n",
       "      <td>False</td>\n",
       "      <td>False</td>\n",
       "      <td>False</td>\n",
       "    </tr>\n",
       "    <tr>\n",
       "      <th>2</th>\n",
       "      <td>False</td>\n",
       "      <td>True</td>\n",
       "      <td>False</td>\n",
       "    </tr>\n",
       "    <tr>\n",
       "      <th>3</th>\n",
       "      <td>False</td>\n",
       "      <td>False</td>\n",
       "      <td>True</td>\n",
       "    </tr>\n",
       "  </tbody>\n",
       "</table>\n",
       "</div>"
      ],
      "text/plain": [
       "   poeta  ano_nascimento  obra_principal\n",
       "0  False           False           False\n",
       "1  False           False           False\n",
       "2  False            True           False\n",
       "3  False           False            True"
      ]
     },
     "execution_count": 142,
     "metadata": {},
     "output_type": "execute_result"
    }
   ],
   "source": [
    "df_limpo.isna()"
   ]
  },
  {
   "cell_type": "code",
   "execution_count": 144,
   "id": "f129c658-0a05-46c3-b7ad-5e8eaa9e135e",
   "metadata": {},
   "outputs": [
    {
     "data": {
      "text/html": [
       "<div>\n",
       "<style scoped>\n",
       "    .dataframe tbody tr th:only-of-type {\n",
       "        vertical-align: middle;\n",
       "    }\n",
       "\n",
       "    .dataframe tbody tr th {\n",
       "        vertical-align: top;\n",
       "    }\n",
       "\n",
       "    .dataframe thead th {\n",
       "        text-align: right;\n",
       "    }\n",
       "</style>\n",
       "<table border=\"1\" class=\"dataframe\">\n",
       "  <thead>\n",
       "    <tr style=\"text-align: right;\">\n",
       "      <th></th>\n",
       "      <th>poeta</th>\n",
       "      <th>ano_nascimento</th>\n",
       "      <th>obra_principal</th>\n",
       "    </tr>\n",
       "  </thead>\n",
       "  <tbody>\n",
       "    <tr>\n",
       "      <th>0</th>\n",
       "      <td>Eliot</td>\n",
       "      <td>1888.0</td>\n",
       "      <td>Four Quartets</td>\n",
       "    </tr>\n",
       "    <tr>\n",
       "      <th>1</th>\n",
       "      <td>Frost</td>\n",
       "      <td>1874.0</td>\n",
       "      <td>The Road not taken</td>\n",
       "    </tr>\n",
       "    <tr>\n",
       "      <th>2</th>\n",
       "      <td>Milton</td>\n",
       "      <td>NaN</td>\n",
       "      <td>Paradise Lost</td>\n",
       "    </tr>\n",
       "    <tr>\n",
       "      <th>3</th>\n",
       "      <td>Wordsworth</td>\n",
       "      <td>1770.0</td>\n",
       "      <td>NaN</td>\n",
       "    </tr>\n",
       "  </tbody>\n",
       "</table>\n",
       "</div>"
      ],
      "text/plain": [
       "        poeta  ano_nascimento      obra_principal\n",
       "0       Eliot          1888.0       Four Quartets\n",
       "1       Frost          1874.0  The Road not taken\n",
       "2      Milton             NaN       Paradise Lost\n",
       "3  Wordsworth          1770.0                 NaN"
      ]
     },
     "execution_count": 144,
     "metadata": {},
     "output_type": "execute_result"
    }
   ],
   "source": [
    "df_limpo.dropna(how='all')"
   ]
  },
  {
   "cell_type": "code",
   "execution_count": 163,
   "id": "550fe919-1751-4e99-9016-4df57bae9e0d",
   "metadata": {},
   "outputs": [],
   "source": [
    "df_limpo['ano_nascimento'] = df_limpo['ano_nascimento'].fillna(1608)"
   ]
  },
  {
   "cell_type": "code",
   "execution_count": 165,
   "id": "7bb8f770-636f-4ea6-b1e4-c37afda89892",
   "metadata": {},
   "outputs": [],
   "source": [
    "df_limpo['obra_principal'] = df_limpo['obra_principal'].fillna('I wandered lonely as a cloud')"
   ]
  },
  {
   "cell_type": "code",
   "execution_count": 167,
   "id": "7684642b-904d-42aa-89bb-c736bbde7e01",
   "metadata": {},
   "outputs": [
    {
     "data": {
      "text/html": [
       "<div>\n",
       "<style scoped>\n",
       "    .dataframe tbody tr th:only-of-type {\n",
       "        vertical-align: middle;\n",
       "    }\n",
       "\n",
       "    .dataframe tbody tr th {\n",
       "        vertical-align: top;\n",
       "    }\n",
       "\n",
       "    .dataframe thead th {\n",
       "        text-align: right;\n",
       "    }\n",
       "</style>\n",
       "<table border=\"1\" class=\"dataframe\">\n",
       "  <thead>\n",
       "    <tr style=\"text-align: right;\">\n",
       "      <th></th>\n",
       "      <th>poeta</th>\n",
       "      <th>ano_nascimento</th>\n",
       "      <th>obra_principal</th>\n",
       "    </tr>\n",
       "  </thead>\n",
       "  <tbody>\n",
       "    <tr>\n",
       "      <th>0</th>\n",
       "      <td>Eliot</td>\n",
       "      <td>1888.0</td>\n",
       "      <td>Four Quartets</td>\n",
       "    </tr>\n",
       "    <tr>\n",
       "      <th>1</th>\n",
       "      <td>Frost</td>\n",
       "      <td>1874.0</td>\n",
       "      <td>The Road not taken</td>\n",
       "    </tr>\n",
       "    <tr>\n",
       "      <th>2</th>\n",
       "      <td>Milton</td>\n",
       "      <td>1608.0</td>\n",
       "      <td>Paradise Lost</td>\n",
       "    </tr>\n",
       "    <tr>\n",
       "      <th>3</th>\n",
       "      <td>Wordsworth</td>\n",
       "      <td>1770.0</td>\n",
       "      <td>I wandered lonely as a cloud</td>\n",
       "    </tr>\n",
       "  </tbody>\n",
       "</table>\n",
       "</div>"
      ],
      "text/plain": [
       "        poeta  ano_nascimento                obra_principal\n",
       "0       Eliot          1888.0                 Four Quartets\n",
       "1       Frost          1874.0            The Road not taken\n",
       "2      Milton          1608.0                 Paradise Lost\n",
       "3  Wordsworth          1770.0  I wandered lonely as a cloud"
      ]
     },
     "execution_count": 167,
     "metadata": {},
     "output_type": "execute_result"
    }
   ],
   "source": [
    "df_limpo"
   ]
  },
  {
   "cell_type": "code",
   "execution_count": 175,
   "id": "a653925f-8c19-4325-9245-1126600e6cf3",
   "metadata": {},
   "outputs": [
    {
     "data": {
      "text/plain": [
       "poeta              object\n",
       "ano_nascimento    float64\n",
       "obra_principal     object\n",
       "dtype: object"
      ]
     },
     "execution_count": 175,
     "metadata": {},
     "output_type": "execute_result"
    }
   ],
   "source": [
    "df_limpo.dtypes"
   ]
  },
  {
   "cell_type": "code",
   "execution_count": 177,
   "id": "6cece0eb-d5ce-4106-8fb9-7b65afe2c6f5",
   "metadata": {},
   "outputs": [],
   "source": [
    "df_limpo['ano_nascimento'] = df_limpo['ano_nascimento'].astype(int)"
   ]
  },
  {
   "cell_type": "code",
   "execution_count": 179,
   "id": "3bc61b62-2478-41c8-ae12-5a7319af056e",
   "metadata": {},
   "outputs": [
    {
     "data": {
      "text/html": [
       "<div>\n",
       "<style scoped>\n",
       "    .dataframe tbody tr th:only-of-type {\n",
       "        vertical-align: middle;\n",
       "    }\n",
       "\n",
       "    .dataframe tbody tr th {\n",
       "        vertical-align: top;\n",
       "    }\n",
       "\n",
       "    .dataframe thead th {\n",
       "        text-align: right;\n",
       "    }\n",
       "</style>\n",
       "<table border=\"1\" class=\"dataframe\">\n",
       "  <thead>\n",
       "    <tr style=\"text-align: right;\">\n",
       "      <th></th>\n",
       "      <th>poeta</th>\n",
       "      <th>ano_nascimento</th>\n",
       "      <th>obra_principal</th>\n",
       "    </tr>\n",
       "  </thead>\n",
       "  <tbody>\n",
       "    <tr>\n",
       "      <th>0</th>\n",
       "      <td>Eliot</td>\n",
       "      <td>1888</td>\n",
       "      <td>Four Quartets</td>\n",
       "    </tr>\n",
       "    <tr>\n",
       "      <th>1</th>\n",
       "      <td>Frost</td>\n",
       "      <td>1874</td>\n",
       "      <td>The Road not taken</td>\n",
       "    </tr>\n",
       "    <tr>\n",
       "      <th>2</th>\n",
       "      <td>Milton</td>\n",
       "      <td>1608</td>\n",
       "      <td>Paradise Lost</td>\n",
       "    </tr>\n",
       "    <tr>\n",
       "      <th>3</th>\n",
       "      <td>Wordsworth</td>\n",
       "      <td>1770</td>\n",
       "      <td>I wandered lonely as a cloud</td>\n",
       "    </tr>\n",
       "  </tbody>\n",
       "</table>\n",
       "</div>"
      ],
      "text/plain": [
       "        poeta  ano_nascimento                obra_principal\n",
       "0       Eliot            1888                 Four Quartets\n",
       "1       Frost            1874            The Road not taken\n",
       "2      Milton            1608                 Paradise Lost\n",
       "3  Wordsworth            1770  I wandered lonely as a cloud"
      ]
     },
     "execution_count": 179,
     "metadata": {},
     "output_type": "execute_result"
    }
   ],
   "source": [
    "df_limpo"
   ]
  },
  {
   "cell_type": "code",
   "execution_count": 181,
   "id": "cac2e5d4-753a-4467-86d6-0c22a9c18b40",
   "metadata": {},
   "outputs": [
    {
     "data": {
      "text/plain": [
       "Coleridge     NaN\n",
       "Eliot         NaN\n",
       "Frost         7.0\n",
       "Milton        7.0\n",
       "Wordsworth    NaN\n",
       "dtype: float64"
      ]
     },
     "execution_count": 181,
     "metadata": {},
     "output_type": "execute_result"
    }
   ],
   "source": [
    "import pandas as pd\n",
    "\n",
    "s1 = pd.Series([1, 2, 3], index=['Eliot', 'Frost', 'Milton'])\n",
    "s2 = pd.Series([4, 5, 6, 7], index=['Milton', 'Frost', 'Wordsworth', 'Coleridge'])\n",
    "\n",
    "s1 + s2"
   ]
  },
  {
   "cell_type": "code",
   "execution_count": 183,
   "id": "2d136374-a16f-4629-8e57-aff1f308d079",
   "metadata": {},
   "outputs": [],
   "source": [
    "livros_1900s = pd.Series([4, 3], index=['Eliot', 'Frost'])\n",
    "livros_1800s = pd.Series([2, 5], index=['Wordsworth', 'Frost'])"
   ]
  },
  {
   "cell_type": "code",
   "execution_count": 185,
   "id": "e14b7a77-e564-46d3-9754-b19e48ae450a",
   "metadata": {},
   "outputs": [
    {
     "data": {
      "text/plain": [
       "Eliot         NaN\n",
       "Frost         8.0\n",
       "Wordsworth    NaN\n",
       "dtype: float64"
      ]
     },
     "execution_count": 185,
     "metadata": {},
     "output_type": "execute_result"
    }
   ],
   "source": [
    "livros_1900s + livros_1800s"
   ]
  },
  {
   "cell_type": "code",
   "execution_count": 187,
   "id": "e27d3eee-9f85-4ce0-9b16-e2107818bf4c",
   "metadata": {},
   "outputs": [
    {
     "data": {
      "text/plain": [
       "Eliot         4.0\n",
       "Frost         8.0\n",
       "Wordsworth    2.0\n",
       "dtype: float64"
      ]
     },
     "execution_count": 187,
     "metadata": {},
     "output_type": "execute_result"
    }
   ],
   "source": [
    "livros_1900s.add(livros_1800s, fill_value=0)"
   ]
  },
  {
   "cell_type": "code",
   "execution_count": 191,
   "id": "9c6d3a3c-bf60-4240-9a0c-1062239c1aa9",
   "metadata": {},
   "outputs": [
    {
     "data": {
      "text/plain": [
       "0        ELIOT\n",
       "1        FROST\n",
       "2       MILTON\n",
       "3    COLERIDGE\n",
       "dtype: object"
      ]
     },
     "execution_count": 191,
     "metadata": {},
     "output_type": "execute_result"
    }
   ],
   "source": [
    "poetas = pd.Series(['Eliot', 'Frost', 'Milton', 'Coleridge'])\n",
    "\n",
    "poetas.map(str.upper)"
   ]
  },
  {
   "cell_type": "code",
   "execution_count": 196,
   "id": "1d4a6523-07c4-48fa-81fc-43953be40f5a",
   "metadata": {},
   "outputs": [
    {
     "data": {
      "text/plain": [
       "0     T. S. Eliot\n",
       "1    Robert Frost\n",
       "2             NaN\n",
       "3             NaN\n",
       "dtype: object"
      ]
     },
     "execution_count": 196,
     "metadata": {},
     "output_type": "execute_result"
    }
   ],
   "source": [
    "poetas.map({'Eliot': 'T. S. Eliot', 'Frost': 'Robert Frost'})"
   ]
  },
  {
   "cell_type": "code",
   "execution_count": 200,
   "id": "c25b5fdd-19d0-4fe0-a5c3-64a634f40411",
   "metadata": {},
   "outputs": [
    {
     "data": {
      "text/html": [
       "<div>\n",
       "<style scoped>\n",
       "    .dataframe tbody tr th:only-of-type {\n",
       "        vertical-align: middle;\n",
       "    }\n",
       "\n",
       "    .dataframe tbody tr th {\n",
       "        vertical-align: top;\n",
       "    }\n",
       "\n",
       "    .dataframe thead th {\n",
       "        text-align: right;\n",
       "    }\n",
       "</style>\n",
       "<table border=\"1\" class=\"dataframe\">\n",
       "  <thead>\n",
       "    <tr style=\"text-align: right;\">\n",
       "      <th></th>\n",
       "      <th>Poeta</th>\n",
       "      <th>idade_morte</th>\n",
       "      <th>obras</th>\n",
       "    </tr>\n",
       "  </thead>\n",
       "  <tbody>\n",
       "    <tr>\n",
       "      <th>0</th>\n",
       "      <td>Eliot</td>\n",
       "      <td>76</td>\n",
       "      <td>12</td>\n",
       "    </tr>\n",
       "    <tr>\n",
       "      <th>1</th>\n",
       "      <td>Frost</td>\n",
       "      <td>88</td>\n",
       "      <td>20</td>\n",
       "    </tr>\n",
       "    <tr>\n",
       "      <th>2</th>\n",
       "      <td>Milton</td>\n",
       "      <td>65</td>\n",
       "      <td>8</td>\n",
       "    </tr>\n",
       "  </tbody>\n",
       "</table>\n",
       "</div>"
      ],
      "text/plain": [
       "    Poeta  idade_morte  obras\n",
       "0   Eliot           76     12\n",
       "1   Frost           88     20\n",
       "2  Milton           65      8"
      ]
     },
     "execution_count": 200,
     "metadata": {},
     "output_type": "execute_result"
    }
   ],
   "source": [
    "# Exercício 8 \n",
    "\n",
    "data = {\n",
    "    'Poeta': ['Eliot', 'Frost', 'Milton'],\n",
    "    'idade_morte': [76, 88, 65],\n",
    "    'obras': [12, 20, 8]\n",
    "}\n",
    "\n",
    "df = pd.DataFrame(data)\n",
    "df"
   ]
  },
  {
   "cell_type": "code",
   "execution_count": 208,
   "id": "0a574654-7bee-4fbe-9b20-c4dda16464d7",
   "metadata": {},
   "outputs": [
    {
     "data": {
      "text/plain": [
       "idade_morte    76.333333\n",
       "obras          13.333333\n",
       "dtype: float64"
      ]
     },
     "execution_count": 208,
     "metadata": {},
     "output_type": "execute_result"
    }
   ],
   "source": [
    "df[['idade_morte', 'obras']].apply(np.mean)"
   ]
  },
  {
   "cell_type": "code",
   "execution_count": 216,
   "id": "3e3540e9-2667-4fde-83fc-44ef68412e54",
   "metadata": {},
   "outputs": [
    {
     "data": {
      "text/html": [
       "<div>\n",
       "<style scoped>\n",
       "    .dataframe tbody tr th:only-of-type {\n",
       "        vertical-align: middle;\n",
       "    }\n",
       "\n",
       "    .dataframe tbody tr th {\n",
       "        vertical-align: top;\n",
       "    }\n",
       "\n",
       "    .dataframe thead th {\n",
       "        text-align: right;\n",
       "    }\n",
       "</style>\n",
       "<table border=\"1\" class=\"dataframe\">\n",
       "  <thead>\n",
       "    <tr style=\"text-align: right;\">\n",
       "      <th></th>\n",
       "      <th>Poeta</th>\n",
       "      <th>idade_morte</th>\n",
       "      <th>obras</th>\n",
       "      <th>produtividade</th>\n",
       "    </tr>\n",
       "  </thead>\n",
       "  <tbody>\n",
       "    <tr>\n",
       "      <th>0</th>\n",
       "      <td>Eliot</td>\n",
       "      <td>76</td>\n",
       "      <td>12</td>\n",
       "      <td>0.157895</td>\n",
       "    </tr>\n",
       "    <tr>\n",
       "      <th>1</th>\n",
       "      <td>Frost</td>\n",
       "      <td>88</td>\n",
       "      <td>20</td>\n",
       "      <td>0.227273</td>\n",
       "    </tr>\n",
       "    <tr>\n",
       "      <th>2</th>\n",
       "      <td>Milton</td>\n",
       "      <td>65</td>\n",
       "      <td>8</td>\n",
       "      <td>0.123077</td>\n",
       "    </tr>\n",
       "  </tbody>\n",
       "</table>\n",
       "</div>"
      ],
      "text/plain": [
       "    Poeta  idade_morte  obras  produtividade\n",
       "0   Eliot           76     12       0.157895\n",
       "1   Frost           88     20       0.227273\n",
       "2  Milton           65      8       0.123077"
      ]
     },
     "execution_count": 216,
     "metadata": {},
     "output_type": "execute_result"
    }
   ],
   "source": [
    "df['produtividade'] = df['obras'] / df['idade_morte']\n",
    "df"
   ]
  },
  {
   "cell_type": "code",
   "execution_count": 228,
   "id": "17a2915f-28a3-4755-a62a-12b8c100a1b1",
   "metadata": {},
   "outputs": [
    {
     "data": {
      "text/plain": [
       "0     Sr. Eliot\n",
       "1     Sr. Frost\n",
       "2    Sr. Milton\n",
       "Name: Poeta, dtype: object"
      ]
     },
     "execution_count": 228,
     "metadata": {},
     "output_type": "execute_result"
    }
   ],
   "source": [
    "df['Poeta'].map({'Eliot': 'Sr. Eliot', 'Frost': 'Sr. Frost', 'Milton': 'Sr. Milton'})"
   ]
  },
  {
   "cell_type": "code",
   "execution_count": 238,
   "id": "917b2f6e-ccee-4580-9b20-a950118f3996",
   "metadata": {},
   "outputs": [
    {
     "data": {
      "text/html": [
       "<div>\n",
       "<style scoped>\n",
       "    .dataframe tbody tr th:only-of-type {\n",
       "        vertical-align: middle;\n",
       "    }\n",
       "\n",
       "    .dataframe tbody tr th {\n",
       "        vertical-align: top;\n",
       "    }\n",
       "\n",
       "    .dataframe thead th {\n",
       "        text-align: right;\n",
       "    }\n",
       "</style>\n",
       "<table border=\"1\" class=\"dataframe\">\n",
       "  <thead>\n",
       "    <tr style=\"text-align: right;\">\n",
       "      <th></th>\n",
       "      <th>Poeta</th>\n",
       "      <th>idade_morte</th>\n",
       "      <th>obras</th>\n",
       "      <th>produtividade</th>\n",
       "    </tr>\n",
       "  </thead>\n",
       "  <tbody>\n",
       "    <tr>\n",
       "      <th>1</th>\n",
       "      <td>Frost</td>\n",
       "      <td>88</td>\n",
       "      <td>20</td>\n",
       "      <td>0.227273</td>\n",
       "    </tr>\n",
       "    <tr>\n",
       "      <th>0</th>\n",
       "      <td>Eliot</td>\n",
       "      <td>76</td>\n",
       "      <td>12</td>\n",
       "      <td>0.157895</td>\n",
       "    </tr>\n",
       "    <tr>\n",
       "      <th>2</th>\n",
       "      <td>Milton</td>\n",
       "      <td>65</td>\n",
       "      <td>8</td>\n",
       "      <td>0.123077</td>\n",
       "    </tr>\n",
       "  </tbody>\n",
       "</table>\n",
       "</div>"
      ],
      "text/plain": [
       "    Poeta  idade_morte  obras  produtividade\n",
       "1   Frost           88     20       0.227273\n",
       "0   Eliot           76     12       0.157895\n",
       "2  Milton           65      8       0.123077"
      ]
     },
     "execution_count": 238,
     "metadata": {},
     "output_type": "execute_result"
    }
   ],
   "source": [
    "df.sort_values('produtividade', ascending=False)"
   ]
  },
  {
   "cell_type": "code",
   "execution_count": 240,
   "id": "fc12950d-6303-45fa-8e3f-1b0a9be68bfe",
   "metadata": {},
   "outputs": [
    {
     "data": {
      "text/html": [
       "<div>\n",
       "<style scoped>\n",
       "    .dataframe tbody tr th:only-of-type {\n",
       "        vertical-align: middle;\n",
       "    }\n",
       "\n",
       "    .dataframe tbody tr th {\n",
       "        vertical-align: top;\n",
       "    }\n",
       "\n",
       "    .dataframe thead th {\n",
       "        text-align: right;\n",
       "    }\n",
       "</style>\n",
       "<table border=\"1\" class=\"dataframe\">\n",
       "  <thead>\n",
       "    <tr style=\"text-align: right;\">\n",
       "      <th></th>\n",
       "      <th>Poeta</th>\n",
       "      <th>idade_morte</th>\n",
       "      <th>obras</th>\n",
       "      <th>produtividade</th>\n",
       "    </tr>\n",
       "  </thead>\n",
       "  <tbody>\n",
       "    <tr>\n",
       "      <th>1</th>\n",
       "      <td>Frost</td>\n",
       "      <td>88</td>\n",
       "      <td>20</td>\n",
       "      <td>0.227273</td>\n",
       "    </tr>\n",
       "    <tr>\n",
       "      <th>0</th>\n",
       "      <td>Eliot</td>\n",
       "      <td>76</td>\n",
       "      <td>12</td>\n",
       "      <td>0.157895</td>\n",
       "    </tr>\n",
       "    <tr>\n",
       "      <th>2</th>\n",
       "      <td>Milton</td>\n",
       "      <td>65</td>\n",
       "      <td>8</td>\n",
       "      <td>0.123077</td>\n",
       "    </tr>\n",
       "  </tbody>\n",
       "</table>\n",
       "</div>"
      ],
      "text/plain": [
       "    Poeta  idade_morte  obras  produtividade\n",
       "1   Frost           88     20       0.227273\n",
       "0   Eliot           76     12       0.157895\n",
       "2  Milton           65      8       0.123077"
      ]
     },
     "execution_count": 240,
     "metadata": {},
     "output_type": "execute_result"
    }
   ],
   "source": [
    "df.sort_values('obras', ascending=False)"
   ]
  },
  {
   "cell_type": "code",
   "execution_count": 272,
   "id": "f27f613d-728d-48f8-a6aa-006c6ec46c51",
   "metadata": {},
   "outputs": [
    {
     "data": {
      "text/html": [
       "<div>\n",
       "<style scoped>\n",
       "    .dataframe tbody tr th:only-of-type {\n",
       "        vertical-align: middle;\n",
       "    }\n",
       "\n",
       "    .dataframe tbody tr th {\n",
       "        vertical-align: top;\n",
       "    }\n",
       "\n",
       "    .dataframe thead th {\n",
       "        text-align: right;\n",
       "    }\n",
       "</style>\n",
       "<table border=\"1\" class=\"dataframe\">\n",
       "  <thead>\n",
       "    <tr style=\"text-align: right;\">\n",
       "      <th></th>\n",
       "      <th>Poeta</th>\n",
       "      <th>idade_morte</th>\n",
       "      <th>obras</th>\n",
       "      <th>produtividade</th>\n",
       "      <th>ranking</th>\n",
       "    </tr>\n",
       "  </thead>\n",
       "  <tbody>\n",
       "    <tr>\n",
       "      <th>1</th>\n",
       "      <td>Frost</td>\n",
       "      <td>88</td>\n",
       "      <td>20</td>\n",
       "      <td>0.227273</td>\n",
       "      <td>1.0</td>\n",
       "    </tr>\n",
       "    <tr>\n",
       "      <th>0</th>\n",
       "      <td>Eliot</td>\n",
       "      <td>76</td>\n",
       "      <td>12</td>\n",
       "      <td>0.157895</td>\n",
       "      <td>2.0</td>\n",
       "    </tr>\n",
       "    <tr>\n",
       "      <th>2</th>\n",
       "      <td>Milton</td>\n",
       "      <td>65</td>\n",
       "      <td>8</td>\n",
       "      <td>0.123077</td>\n",
       "      <td>3.0</td>\n",
       "    </tr>\n",
       "  </tbody>\n",
       "</table>\n",
       "</div>"
      ],
      "text/plain": [
       "    Poeta  idade_morte  obras  produtividade  ranking\n",
       "1   Frost           88     20       0.227273      1.0\n",
       "0   Eliot           76     12       0.157895      2.0\n",
       "2  Milton           65      8       0.123077      3.0"
      ]
     },
     "execution_count": 272,
     "metadata": {},
     "output_type": "execute_result"
    }
   ],
   "source": [
    "df['ranking'] = df['produtividade'].rank(ascending=False)\n",
    "df = df.sort_values('ranking')\n",
    "df"
   ]
  },
  {
   "cell_type": "code",
   "execution_count": 276,
   "id": "ebba2575-de11-4be9-92d5-3936fb0fb837",
   "metadata": {},
   "outputs": [
    {
     "data": {
      "text/html": [
       "<div>\n",
       "<style scoped>\n",
       "    .dataframe tbody tr th:only-of-type {\n",
       "        vertical-align: middle;\n",
       "    }\n",
       "\n",
       "    .dataframe tbody tr th {\n",
       "        vertical-align: top;\n",
       "    }\n",
       "\n",
       "    .dataframe thead th {\n",
       "        text-align: right;\n",
       "    }\n",
       "</style>\n",
       "<table border=\"1\" class=\"dataframe\">\n",
       "  <thead>\n",
       "    <tr style=\"text-align: right;\">\n",
       "      <th></th>\n",
       "      <th>Poeta</th>\n",
       "    </tr>\n",
       "  </thead>\n",
       "  <tbody>\n",
       "    <tr>\n",
       "      <th>0</th>\n",
       "      <td>Thomas Stearns Eliot</td>\n",
       "    </tr>\n",
       "    <tr>\n",
       "      <th>1</th>\n",
       "      <td>Robert Frost</td>\n",
       "    </tr>\n",
       "    <tr>\n",
       "      <th>2</th>\n",
       "      <td>John Milton</td>\n",
       "    </tr>\n",
       "    <tr>\n",
       "      <th>3</th>\n",
       "      <td>William Wordsworth</td>\n",
       "    </tr>\n",
       "  </tbody>\n",
       "</table>\n",
       "</div>"
      ],
      "text/plain": [
       "                  Poeta\n",
       "0  Thomas Stearns Eliot\n",
       "1          Robert Frost\n",
       "2           John Milton\n",
       "3    William Wordsworth"
      ]
     },
     "execution_count": 276,
     "metadata": {},
     "output_type": "execute_result"
    }
   ],
   "source": [
    "# Exercício 10\n",
    "\n",
    "df = pd.DataFrame({\n",
    "    'Poeta': ['Thomas Stearns Eliot', 'Robert Frost', 'John Milton', 'William Wordsworth']\n",
    "})\n",
    "\n",
    "df"
   ]
  },
  {
   "cell_type": "code",
   "execution_count": 280,
   "id": "e801ee11-5bd7-440a-8a6d-3d9a74331997",
   "metadata": {},
   "outputs": [
    {
     "data": {
      "text/html": [
       "<div>\n",
       "<style scoped>\n",
       "    .dataframe tbody tr th:only-of-type {\n",
       "        vertical-align: middle;\n",
       "    }\n",
       "\n",
       "    .dataframe tbody tr th {\n",
       "        vertical-align: top;\n",
       "    }\n",
       "\n",
       "    .dataframe thead th {\n",
       "        text-align: right;\n",
       "    }\n",
       "</style>\n",
       "<table border=\"1\" class=\"dataframe\">\n",
       "  <thead>\n",
       "    <tr style=\"text-align: right;\">\n",
       "      <th></th>\n",
       "      <th>Poeta</th>\n",
       "      <th>primeiro_nome</th>\n",
       "    </tr>\n",
       "  </thead>\n",
       "  <tbody>\n",
       "    <tr>\n",
       "      <th>0</th>\n",
       "      <td>Thomas Stearns Eliot</td>\n",
       "      <td>Thomas</td>\n",
       "    </tr>\n",
       "    <tr>\n",
       "      <th>1</th>\n",
       "      <td>Robert Frost</td>\n",
       "      <td>Robert</td>\n",
       "    </tr>\n",
       "    <tr>\n",
       "      <th>2</th>\n",
       "      <td>John Milton</td>\n",
       "      <td>John</td>\n",
       "    </tr>\n",
       "    <tr>\n",
       "      <th>3</th>\n",
       "      <td>William Wordsworth</td>\n",
       "      <td>William</td>\n",
       "    </tr>\n",
       "  </tbody>\n",
       "</table>\n",
       "</div>"
      ],
      "text/plain": [
       "                  Poeta primeiro_nome\n",
       "0  Thomas Stearns Eliot        Thomas\n",
       "1          Robert Frost        Robert\n",
       "2           John Milton          John\n",
       "3    William Wordsworth       William"
      ]
     },
     "execution_count": 280,
     "metadata": {},
     "output_type": "execute_result"
    }
   ],
   "source": [
    "df['primeiro_nome'] = df['Poeta'].str.split().str[0]\n",
    "df"
   ]
  },
  {
   "cell_type": "code",
   "execution_count": 288,
   "id": "538a753b-63ef-48f4-8c66-27aae78d68cd",
   "metadata": {},
   "outputs": [
    {
     "data": {
      "text/html": [
       "<div>\n",
       "<style scoped>\n",
       "    .dataframe tbody tr th:only-of-type {\n",
       "        vertical-align: middle;\n",
       "    }\n",
       "\n",
       "    .dataframe tbody tr th {\n",
       "        vertical-align: top;\n",
       "    }\n",
       "\n",
       "    .dataframe thead th {\n",
       "        text-align: right;\n",
       "    }\n",
       "</style>\n",
       "<table border=\"1\" class=\"dataframe\">\n",
       "  <thead>\n",
       "    <tr style=\"text-align: right;\">\n",
       "      <th></th>\n",
       "      <th>Poeta</th>\n",
       "      <th>primeiro_nome</th>\n",
       "      <th>tem_s</th>\n",
       "    </tr>\n",
       "  </thead>\n",
       "  <tbody>\n",
       "    <tr>\n",
       "      <th>0</th>\n",
       "      <td>Thomas Stearns Eliot</td>\n",
       "      <td>Thomas</td>\n",
       "      <td>True</td>\n",
       "    </tr>\n",
       "    <tr>\n",
       "      <th>1</th>\n",
       "      <td>Robert Frost</td>\n",
       "      <td>Robert</td>\n",
       "      <td>True</td>\n",
       "    </tr>\n",
       "    <tr>\n",
       "      <th>2</th>\n",
       "      <td>John Milton</td>\n",
       "      <td>John</td>\n",
       "      <td>False</td>\n",
       "    </tr>\n",
       "    <tr>\n",
       "      <th>3</th>\n",
       "      <td>William Wordsworth</td>\n",
       "      <td>William</td>\n",
       "      <td>True</td>\n",
       "    </tr>\n",
       "  </tbody>\n",
       "</table>\n",
       "</div>"
      ],
      "text/plain": [
       "                  Poeta primeiro_nome  tem_s\n",
       "0  Thomas Stearns Eliot        Thomas   True\n",
       "1          Robert Frost        Robert   True\n",
       "2           John Milton          John  False\n",
       "3    William Wordsworth       William   True"
      ]
     },
     "execution_count": 288,
     "metadata": {},
     "output_type": "execute_result"
    }
   ],
   "source": [
    "df['tem_s'] = df['Poeta'].str.contains('s')\n",
    "df"
   ]
  },
  {
   "cell_type": "code",
   "execution_count": 290,
   "id": "19d1e369-1d40-41c1-9a55-49e801b48ee7",
   "metadata": {},
   "outputs": [
    {
     "data": {
      "text/plain": [
       "0    Thomas Stearns Eliot\n",
       "1            Robert Frost\n",
       "2             John Milton\n",
       "3           W. Wordsworth\n",
       "Name: Poeta, dtype: object"
      ]
     },
     "execution_count": 290,
     "metadata": {},
     "output_type": "execute_result"
    }
   ],
   "source": [
    "df['Poeta'].str.replace('William', 'W.')"
   ]
  },
  {
   "cell_type": "code",
   "execution_count": null,
   "id": "26de24ab-f83c-434d-b25c-920e1a96b5e9",
   "metadata": {},
   "outputs": [],
   "source": []
  }
 ],
 "metadata": {
  "kernelspec": {
   "display_name": "Python [conda env:base] *",
   "language": "python",
   "name": "conda-base-py"
  },
  "language_info": {
   "codemirror_mode": {
    "name": "ipython",
    "version": 3
   },
   "file_extension": ".py",
   "mimetype": "text/x-python",
   "name": "python",
   "nbconvert_exporter": "python",
   "pygments_lexer": "ipython3",
   "version": "3.12.7"
  }
 },
 "nbformat": 4,
 "nbformat_minor": 5
}

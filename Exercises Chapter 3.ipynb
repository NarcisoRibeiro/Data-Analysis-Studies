{
 "cells": [
  {
   "cell_type": "markdown",
   "id": "bac5c88a-93e5-4eee-9cb6-8d09dd038a40",
   "metadata": {},
   "source": [
    "Exercício 1 - Tuplas com registros fixos\n",
    "Crie um programa que registre informações de 3 produtos: nome, preço e categoria. \n",
    "Use tuplas para guardar os dados de cada produto e exiba-os com uma formatação amigável.\n",
    "\n",
    "\n"
   ]
  },
  {
   "cell_type": "code",
   "execution_count": 42,
   "id": "984b1072-77d3-40b2-907d-23d873456ee9",
   "metadata": {},
   "outputs": [
    {
     "name": "stdout",
     "output_type": "stream",
     "text": [
      "produto 1\n"
     ]
    },
    {
     "name": "stdin",
     "output_type": "stream",
     "text": [
      "Qual o nome do produto? Manteiga\n",
      "Qual o preço do produto? 3 euros\n",
      "Qual a categoria do produto? Laticínios\n"
     ]
    },
    {
     "name": "stdout",
     "output_type": "stream",
     "text": [
      "produto 2\n"
     ]
    },
    {
     "name": "stdin",
     "output_type": "stream",
     "text": [
      "Qual o nome do produto? Atum\n",
      "Qual o preço do produto? 1,67 euros\n",
      "Qual a categoria do produto? Enlatados\n"
     ]
    },
    {
     "name": "stdout",
     "output_type": "stream",
     "text": [
      "produto 3\n"
     ]
    },
    {
     "name": "stdin",
     "output_type": "stream",
     "text": [
      "Qual o nome do produto? Arroz\n",
      "Qual o preço do produto? 1 euro\n",
      "Qual a categoria do produto? Grãos\n"
     ]
    },
    {
     "name": "stdout",
     "output_type": "stream",
     "text": [
      "Produtos registrados: \n",
      "1. Manteiga custa 3 euros e é da categoria Laticínios.\n",
      "2. Atum custa 1,67 euros e é da categoria Enlatados.\n",
      "3. Arroz custa 1 euro e é da categoria Grãos.\n"
     ]
    }
   ],
   "source": [
    "produtos = []\n",
    "\n",
    "for i in range(3):\n",
    "    print(f\"produto {i+1}\")\n",
    "    nome = input(\"Qual o nome do produto?\")\n",
    "    preço = input(\"Qual o preço do produto?\")\n",
    "    categoria = input(\"Qual a categoria do produto?\")\n",
    "\n",
    "    info_produtos = (nome, preço, categoria)\n",
    "    produtos.append(info_produtos)\n",
    "    \n",
    "print(\"Produtos registrados: \")\n",
    "for i , produto in enumerate(produtos, 1):\n",
    "    print(f\"{i}. {produto[0]} custa {produto[1]} e é da categoria {produto[2]}.\")"
   ]
  },
  {
   "cell_type": "markdown",
   "id": "1de4f29d-53f3-4e48-b7bb-acb83877a402",
   "metadata": {},
   "source": [
    " Exercício 2 — Lista de tuplas + ordenação\n",
    "\n",
    "Pegue as tuplas criadas no exercício anterior e coloque todas em uma lista.\n",
    "Depois, ordene os produtos pelo preço (do mais barato ao mais caro) e exiba novamente."
   ]
  },
  {
   "cell_type": "code",
   "execution_count": 7,
   "id": "29aa85fc-b527-4852-a55f-275f7ad35a0e",
   "metadata": {},
   "outputs": [
    {
     "name": "stdout",
     "output_type": "stream",
     "text": [
      "Produto 1\n"
     ]
    },
    {
     "name": "stdin",
     "output_type": "stream",
     "text": [
      "Nome do produto:  Atum\n",
      "Preço do produto:  1.67\n",
      "Categoria do produto:  Enlatados\n"
     ]
    },
    {
     "name": "stdout",
     "output_type": "stream",
     "text": [
      "Produto 2\n"
     ]
    },
    {
     "name": "stdin",
     "output_type": "stream",
     "text": [
      "Nome do produto:  Macarrão\n",
      "Preço do produto:  0.80\n",
      "Categoria do produto:  Massas\n"
     ]
    },
    {
     "name": "stdout",
     "output_type": "stream",
     "text": [
      "Produto 3\n"
     ]
    },
    {
     "name": "stdin",
     "output_type": "stream",
     "text": [
      "Nome do produto:  Presunto\n",
      "Preço do produto:  5\n",
      "Categoria do produto:  Defumados\n"
     ]
    },
    {
     "name": "stdout",
     "output_type": "stream",
     "text": [
      "Produtos ordenados por preço: \n",
      "1. Macarrão custa 0.8 euros e é da categoria Massas.\n",
      "2. Atum custa 1.67 euros e é da categoria Enlatados.\n",
      "3. Presunto custa 5.0 euros e é da categoria Defumados.\n"
     ]
    }
   ],
   "source": [
    "produtos = []\n",
    "\n",
    "for i in range(3):\n",
    "    print(f\"Produto {i+1}\")\n",
    "    nome = input(\"Nome do produto: \")\n",
    "    preco = float(input(\"Preço do produto: \")) # convertido para float aqui\n",
    "    categoria = input(\"Categoria do produto: \")\n",
    "\n",
    "    info = (nome, preco, categoria)\n",
    "    produtos.append(info)\n",
    "\n",
    "# Ordena pelo preço (índice 1 da tupla)\n",
    "produtos_ordenados = sorted(produtos, key=lambda x: x[1])\n",
    "\n",
    "print(\"Produtos ordenados por preço: \")\n",
    "for i, produto in enumerate(produtos_ordenados, 1): \n",
    "    print(f\"{i}. {produto[0]} custa {produto[1]} euros e é da categoria {produto[2]}.\")"
   ]
  },
  {
   "cell_type": "markdown",
   "id": "f2968189-7e86-41a6-b847-5b79a978e6af",
   "metadata": {},
   "source": [
    "Exercício 3 — Dicionário de estoque\n",
    "\n",
    "Converta cada produto para um dicionário, com as chaves \"nome\", \"preco\", \"categoria\".\n",
    "Armazene tudo numa lista chamada estoque, e crie uma função mostrar_estoque() que imprima os produtos organizadamente.\n"
   ]
  },
  {
   "cell_type": "code",
   "execution_count": 11,
   "id": "d249b8c7-07e5-4098-a359-ea2acb6aae33",
   "metadata": {},
   "outputs": [
    {
     "name": "stdout",
     "output_type": "stream",
     "text": [
      "Produto 1\n"
     ]
    },
    {
     "name": "stdin",
     "output_type": "stream",
     "text": [
      "Qual o nome do produto?  Atum\n",
      "Qual o preço do produto?  1.67\n",
      "Qual a categoria?  enlatados\n"
     ]
    },
    {
     "name": "stdout",
     "output_type": "stream",
     "text": [
      "Produto 2\n"
     ]
    },
    {
     "name": "stdin",
     "output_type": "stream",
     "text": [
      "Qual o nome do produto?  Arroz\n",
      "Qual o preço do produto?  1.15\n",
      "Qual a categoria?  cereais\n"
     ]
    },
    {
     "name": "stdout",
     "output_type": "stream",
     "text": [
      "Produto 3\n"
     ]
    },
    {
     "name": "stdin",
     "output_type": "stream",
     "text": [
      "Qual o nome do produto?  Macarrão\n",
      "Qual o preço do produto?  0.80\n",
      "Qual a categoria?  massas\n"
     ]
    },
    {
     "name": "stdout",
     "output_type": "stream",
     "text": [
      "1. Atum custa 1.67 euros e é da categoria enlatados.\n",
      "2. Arroz custa 1.15 euros e é da categoria cereais.\n",
      "3. Macarrão custa 0.8 euros e é da categoria massas.\n"
     ]
    }
   ],
   "source": [
    "estoque = []\n",
    "\n",
    "for i in range(3):\n",
    "    print(f\"Produto {i + 1}\")\n",
    "    nome = input(\"Qual o nome do produto? \")\n",
    "    preco = float(input(\"Qual o preço do produto? \"))\n",
    "    categoria = input(\"Qual a categoria? \")\n",
    "\n",
    "    produto = {\n",
    "        \"nome\": nome,\n",
    "        \"preco\": preco,\n",
    "        \"categoria\": categoria\n",
    "    }\n",
    "\n",
    "    estoque.append(produto)\n",
    "\n",
    "# Mostrar os produtos\n",
    "for i, produto in enumerate(estoque, 1):\n",
    "    print(f\"{i}. {produto[\"nome\"]} custa {produto[\"preco\"]} euros e é da categoria {produto[\"categoria\"]}.\")\n",
    "\n",
    "    "
   ]
  },
  {
   "cell_type": "markdown",
   "id": "dbc98a0e-541a-40eb-acb8-0b8815a67c65",
   "metadata": {},
   "source": [
    "Exercício 4 — Contador de categorias com dict\n",
    "\n",
    "Use um dicionário para contar quantos produtos existem em cada categoria (ex: \"Eletrônicos\": 2, \"Roupas\": 1).\n",
    "\n"
   ]
  },
  {
   "cell_type": "code",
   "execution_count": null,
   "id": "bda105fc-572c-429c-840a-5e9bf41ddf2d",
   "metadata": {},
   "outputs": [],
   "source": [
    "📘 Exercício 5 — Gravação em arquivo .csv\n",
    "\n",
    "    Grave os produtos do estoque num arquivo chamado produtos.csv, com as colunas nome, preco, categoria."
   ]
  },
  {
   "cell_type": "code",
   "execution_count": null,
   "id": "5d33a2c7-447b-414a-9b1f-62e9ae2ceef6",
   "metadata": {},
   "outputs": [],
   "source": []
  }
 ],
 "metadata": {
  "kernelspec": {
   "display_name": "Python [conda env:base] *",
   "language": "python",
   "name": "conda-base-py"
  },
  "language_info": {
   "codemirror_mode": {
    "name": "ipython",
    "version": 3
   },
   "file_extension": ".py",
   "mimetype": "text/x-python",
   "name": "python",
   "nbconvert_exporter": "python",
   "pygments_lexer": "ipython3",
   "version": "3.12.7"
  }
 },
 "nbformat": 4,
 "nbformat_minor": 5
}

{
 "cells": [
  {
   "cell_type": "code",
   "execution_count": 27,
   "id": "096ab9fc-3638-4554-b5ca-2c05f733d973",
   "metadata": {},
   "outputs": [
    {
     "name": "stdin",
     "output_type": "stream",
     "text": [
      "Number:  N\n"
     ]
    },
    {
     "name": "stdout",
     "output_type": "stream",
     "text": [
      "Invalid input. Please enter an integer number.\n"
     ]
    }
   ],
   "source": [
    "numbers = [20, 500, 10, 5, 100, 1, 50]\n",
    "\n",
    "try:\n",
    "    n = float(input(\"Number: \"))\n",
    "\n",
    "    if n in numbers: \n",
    "        print(\"Found\")\n",
    "\n",
    "    else: \n",
    "        print(\"Not found\")\n",
    "\n",
    "except ValueError:\n",
    "    print(\"Invalid input. Please enter an integer number.\")"
   ]
  },
  {
   "cell_type": "code",
   "execution_count": null,
   "id": "638e9edb-0acc-4b29-90b4-2b052d52ed74",
   "metadata": {},
   "outputs": [],
   "source": []
  }
 ],
 "metadata": {
  "kernelspec": {
   "display_name": "Python [conda env:base] *",
   "language": "python",
   "name": "conda-base-py"
  },
  "language_info": {
   "codemirror_mode": {
    "name": "ipython",
    "version": 3
   },
   "file_extension": ".py",
   "mimetype": "text/x-python",
   "name": "python",
   "nbconvert_exporter": "python",
   "pygments_lexer": "ipython3",
   "version": "3.12.7"
  }
 },
 "nbformat": 4,
 "nbformat_minor": 5
}

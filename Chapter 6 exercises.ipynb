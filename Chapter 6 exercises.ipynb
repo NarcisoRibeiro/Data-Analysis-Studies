{
 "cells": [
  {
   "cell_type": "code",
   "execution_count": 7,
   "id": "71f6eb6d-2a34-4b67-a2e3-104f8470c684",
   "metadata": {},
   "outputs": [
    {
     "data": {
      "text/html": [
       "<div>\n",
       "<style scoped>\n",
       "    .dataframe tbody tr th:only-of-type {\n",
       "        vertical-align: middle;\n",
       "    }\n",
       "\n",
       "    .dataframe tbody tr th {\n",
       "        vertical-align: top;\n",
       "    }\n",
       "\n",
       "    .dataframe thead th {\n",
       "        text-align: right;\n",
       "    }\n",
       "</style>\n",
       "<table border=\"1\" class=\"dataframe\">\n",
       "  <thead>\n",
       "    <tr style=\"text-align: right;\">\n",
       "      <th></th>\n",
       "      <th>idade</th>\n",
       "      <th>profissão</th>\n",
       "    </tr>\n",
       "    <tr>\n",
       "      <th>nome</th>\n",
       "      <th></th>\n",
       "      <th></th>\n",
       "    </tr>\n",
       "  </thead>\n",
       "  <tbody>\n",
       "    <tr>\n",
       "      <th>Eliot</th>\n",
       "      <td>45</td>\n",
       "      <td>poeta</td>\n",
       "    </tr>\n",
       "    <tr>\n",
       "      <th>Frost</th>\n",
       "      <td>50</td>\n",
       "      <td>poeta</td>\n",
       "    </tr>\n",
       "    <tr>\n",
       "      <th>Milton</th>\n",
       "      <td>60</td>\n",
       "      <td>teólogo</td>\n",
       "    </tr>\n",
       "  </tbody>\n",
       "</table>\n",
       "</div>"
      ],
      "text/plain": [
       "        idade profissão\n",
       "nome                   \n",
       "Eliot      45     poeta\n",
       "Frost      50     poeta\n",
       "Milton     60   teólogo"
      ]
     },
     "execution_count": 7,
     "metadata": {},
     "output_type": "execute_result"
    }
   ],
   "source": [
    "import pandas as pd\n",
    "# Criar o arquivo csv\n",
    "\n",
    "with open('poetas.csv', 'w', encoding='utf-8') as f: \n",
    "    f.write('nome, idade, profissão\\nEliot, 45, poeta\\nFrost,50,poeta\\nMilton,60,teólogo')\n",
    "\n",
    "# Ler o arquivo\n",
    "df = pd.read_csv('poetas.csv', index_col='nome', encoding='utf-8')\n",
    "df"
   ]
  },
  {
   "cell_type": "code",
   "execution_count": 9,
   "id": "36aa5eae-3adf-4af0-a64b-f9d417834327",
   "metadata": {},
   "outputs": [
    {
     "data": {
      "text/html": [
       "<div>\n",
       "<style scoped>\n",
       "    .dataframe tbody tr th:only-of-type {\n",
       "        vertical-align: middle;\n",
       "    }\n",
       "\n",
       "    .dataframe tbody tr th {\n",
       "        vertical-align: top;\n",
       "    }\n",
       "\n",
       "    .dataframe thead th {\n",
       "        text-align: right;\n",
       "    }\n",
       "</style>\n",
       "<table border=\"1\" class=\"dataframe\">\n",
       "  <thead>\n",
       "    <tr style=\"text-align: right;\">\n",
       "      <th></th>\n",
       "      <th>nome</th>\n",
       "      <th>idade</th>\n",
       "      <th>profissão</th>\n",
       "    </tr>\n",
       "  </thead>\n",
       "  <tbody>\n",
       "    <tr>\n",
       "      <th>0</th>\n",
       "      <td>Eliot</td>\n",
       "      <td>45</td>\n",
       "      <td>poeta</td>\n",
       "    </tr>\n",
       "    <tr>\n",
       "      <th>1</th>\n",
       "      <td>Frost</td>\n",
       "      <td>50</td>\n",
       "      <td>poeta</td>\n",
       "    </tr>\n",
       "    <tr>\n",
       "      <th>2</th>\n",
       "      <td>Milton</td>\n",
       "      <td>60</td>\n",
       "      <td>teólogo</td>\n",
       "    </tr>\n",
       "  </tbody>\n",
       "</table>\n",
       "</div>"
      ],
      "text/plain": [
       "     nome  idade profissão\n",
       "0   Eliot     45     poeta\n",
       "1   Frost     50     poeta\n",
       "2  Milton     60   teólogo"
      ]
     },
     "execution_count": 9,
     "metadata": {},
     "output_type": "execute_result"
    }
   ],
   "source": [
    "colunas = ['nome', 'idade', 'profissão']\n",
    "\n",
    "with open(\"poetas_sem_cabecalho.csv\", \"w\", encoding=\"utf-8\") as f:\n",
    "    f.write(\"Eliot,45,poeta\\nFrost,50,poeta\\nMilton,60,teólogo\")\n",
    "\n",
    "df = pd.read_csv(\"poetas_sem_cabecalho.csv\", names=colunas, header=None)\n",
    "df\n"
   ]
  },
  {
   "cell_type": "code",
   "execution_count": 23,
   "id": "e9941823-d06a-4c6e-a3f7-d4ffbfdd7659",
   "metadata": {},
   "outputs": [
    {
     "data": {
      "text/html": [
       "<div>\n",
       "<style scoped>\n",
       "    .dataframe tbody tr th:only-of-type {\n",
       "        vertical-align: middle;\n",
       "    }\n",
       "\n",
       "    .dataframe tbody tr th {\n",
       "        vertical-align: top;\n",
       "    }\n",
       "\n",
       "    .dataframe thead th {\n",
       "        text-align: right;\n",
       "    }\n",
       "</style>\n",
       "<table border=\"1\" class=\"dataframe\">\n",
       "  <thead>\n",
       "    <tr style=\"text-align: right;\">\n",
       "      <th></th>\n",
       "      <th>nome</th>\n",
       "      <th>idade</th>\n",
       "      <th>profissão</th>\n",
       "    </tr>\n",
       "  </thead>\n",
       "  <tbody>\n",
       "    <tr>\n",
       "      <th>0</th>\n",
       "      <td>Eliot</td>\n",
       "      <td>45</td>\n",
       "      <td>poeta</td>\n",
       "    </tr>\n",
       "    <tr>\n",
       "      <th>1</th>\n",
       "      <td>Frost</td>\n",
       "      <td>50</td>\n",
       "      <td>poeta</td>\n",
       "    </tr>\n",
       "  </tbody>\n",
       "</table>\n",
       "</div>"
      ],
      "text/plain": [
       "    nome  idade profissão\n",
       "0  Eliot     45     poeta\n",
       "1  Frost     50     poeta"
      ]
     },
     "execution_count": 23,
     "metadata": {},
     "output_type": "execute_result"
    }
   ],
   "source": [
    "with open('poetas_com_lixo.csv', 'w', encoding='utf-8') as f:\n",
    "    f.write('# Arquivo gerado automaticamente\\n# versão 1.0\\nnome,idade,profissão\\nEliot,45,poeta\\nFrost,50,poeta')\n",
    "\n",
    "df = pd.read_csv('poetas_com_lixo.csv', skiprows=2)\n",
    "df"
   ]
  },
  {
   "cell_type": "code",
   "execution_count": 25,
   "id": "49b23460-0db1-4004-b31e-a79e90b1a1dd",
   "metadata": {},
   "outputs": [],
   "source": [
    "with open('poetas_com_nulos.csv', 'w', encoding='utf=8') as f:\n",
    "    f.write('nome,idade,profissao\\nEliot,45,poeta\\nFrost,,poeta\\nMilton,60,NA')"
   ]
  },
  {
   "cell_type": "code",
   "execution_count": 27,
   "id": "3514dc31-df37-41db-8a15-4ef295ce0188",
   "metadata": {},
   "outputs": [
    {
     "data": {
      "text/html": [
       "<div>\n",
       "<style scoped>\n",
       "    .dataframe tbody tr th:only-of-type {\n",
       "        vertical-align: middle;\n",
       "    }\n",
       "\n",
       "    .dataframe tbody tr th {\n",
       "        vertical-align: top;\n",
       "    }\n",
       "\n",
       "    .dataframe thead th {\n",
       "        text-align: right;\n",
       "    }\n",
       "</style>\n",
       "<table border=\"1\" class=\"dataframe\">\n",
       "  <thead>\n",
       "    <tr style=\"text-align: right;\">\n",
       "      <th></th>\n",
       "      <th>nome</th>\n",
       "      <th>idade</th>\n",
       "      <th>profissao</th>\n",
       "    </tr>\n",
       "  </thead>\n",
       "  <tbody>\n",
       "    <tr>\n",
       "      <th>0</th>\n",
       "      <td>Eliot</td>\n",
       "      <td>45.0</td>\n",
       "      <td>poeta</td>\n",
       "    </tr>\n",
       "    <tr>\n",
       "      <th>1</th>\n",
       "      <td>Frost</td>\n",
       "      <td>NaN</td>\n",
       "      <td>poeta</td>\n",
       "    </tr>\n",
       "    <tr>\n",
       "      <th>2</th>\n",
       "      <td>Milton</td>\n",
       "      <td>60.0</td>\n",
       "      <td>NaN</td>\n",
       "    </tr>\n",
       "  </tbody>\n",
       "</table>\n",
       "</div>"
      ],
      "text/plain": [
       "     nome  idade profissao\n",
       "0   Eliot   45.0     poeta\n",
       "1   Frost    NaN     poeta\n",
       "2  Milton   60.0       NaN"
      ]
     },
     "execution_count": 27,
     "metadata": {},
     "output_type": "execute_result"
    }
   ],
   "source": [
    "df = pd.read_csv('poetas_com_nulos.csv', na_values=['NA', ''])\n",
    "df"
   ]
  },
  {
   "cell_type": "code",
   "execution_count": 31,
   "id": "f6486107-7c30-4fda-b6a8-3f6481e19bc3",
   "metadata": {},
   "outputs": [
    {
     "data": {
      "text/html": [
       "<div>\n",
       "<style scoped>\n",
       "    .dataframe tbody tr th:only-of-type {\n",
       "        vertical-align: middle;\n",
       "    }\n",
       "\n",
       "    .dataframe tbody tr th {\n",
       "        vertical-align: top;\n",
       "    }\n",
       "\n",
       "    .dataframe thead th {\n",
       "        text-align: right;\n",
       "    }\n",
       "</style>\n",
       "<table border=\"1\" class=\"dataframe\">\n",
       "  <thead>\n",
       "    <tr style=\"text-align: right;\">\n",
       "      <th></th>\n",
       "      <th>nome</th>\n",
       "      <th>idade</th>\n",
       "      <th>profissao</th>\n",
       "    </tr>\n",
       "  </thead>\n",
       "  <tbody>\n",
       "    <tr>\n",
       "      <th>0</th>\n",
       "      <td>Eliot</td>\n",
       "      <td>45.0</td>\n",
       "      <td>poeta</td>\n",
       "    </tr>\n",
       "    <tr>\n",
       "      <th>1</th>\n",
       "      <td>Frost</td>\n",
       "      <td>NaN</td>\n",
       "      <td>poeta</td>\n",
       "    </tr>\n",
       "  </tbody>\n",
       "</table>\n",
       "</div>"
      ],
      "text/plain": [
       "    nome  idade profissao\n",
       "0  Eliot   45.0     poeta\n",
       "1  Frost    NaN     poeta"
      ]
     },
     "execution_count": 31,
     "metadata": {},
     "output_type": "execute_result"
    }
   ],
   "source": [
    "pd.read_csv('poetas_com_nulos.csv', nrows=2)"
   ]
  },
  {
   "cell_type": "code",
   "execution_count": 33,
   "id": "a5ff39c2-041b-4e9c-9fb3-d02e7e31dde7",
   "metadata": {},
   "outputs": [
    {
     "name": "stdout",
     "output_type": "stream",
     "text": [
      "    nome  idade profissao\n",
      "0  Eliot   45.0     poeta\n",
      "1  Frost    NaN     poeta\n",
      "     nome  idade  profissao\n",
      "2  Milton     60        NaN\n"
     ]
    }
   ],
   "source": [
    "chunker = pd.read_csv('poetas_com_nulos.csv', chunksize=2)\n",
    "\n",
    "for pedaco in chunker:\n",
    "    print(pedaco)"
   ]
  },
  {
   "cell_type": "code",
   "execution_count": 35,
   "id": "94292b97-1988-4f72-9034-2597b5e756dd",
   "metadata": {},
   "outputs": [],
   "source": [
    "df = pd.DataFrame({\n",
    "    'nome': ['Eliot', 'Frost', 'Milton'],\n",
    "    'idade': [45, 50, 60],\n",
    "    'profissão': ['poeta', 'poeta', 'teólogo']\n",
    "})\n",
    "\n",
    "df.to_csv('poetas_exportados.csv', index=False, encoding='utf-8')"
   ]
  },
  {
   "cell_type": "code",
   "execution_count": 37,
   "id": "cb1bdd1e-5300-43ef-ae54-c5b26f916ad2",
   "metadata": {},
   "outputs": [
    {
     "data": {
      "text/html": [
       "<div>\n",
       "<style scoped>\n",
       "    .dataframe tbody tr th:only-of-type {\n",
       "        vertical-align: middle;\n",
       "    }\n",
       "\n",
       "    .dataframe tbody tr th {\n",
       "        vertical-align: top;\n",
       "    }\n",
       "\n",
       "    .dataframe thead th {\n",
       "        text-align: right;\n",
       "    }\n",
       "</style>\n",
       "<table border=\"1\" class=\"dataframe\">\n",
       "  <thead>\n",
       "    <tr style=\"text-align: right;\">\n",
       "      <th></th>\n",
       "      <th>nome</th>\n",
       "      <th>idade</th>\n",
       "      <th>profissão</th>\n",
       "    </tr>\n",
       "  </thead>\n",
       "  <tbody>\n",
       "    <tr>\n",
       "      <th>0</th>\n",
       "      <td>Eliot</td>\n",
       "      <td>45</td>\n",
       "      <td>poeta</td>\n",
       "    </tr>\n",
       "    <tr>\n",
       "      <th>1</th>\n",
       "      <td>Frost</td>\n",
       "      <td>50</td>\n",
       "      <td>poeta</td>\n",
       "    </tr>\n",
       "    <tr>\n",
       "      <th>2</th>\n",
       "      <td>Milton</td>\n",
       "      <td>60</td>\n",
       "      <td>teólogo</td>\n",
       "    </tr>\n",
       "  </tbody>\n",
       "</table>\n",
       "</div>"
      ],
      "text/plain": [
       "     nome  idade profissão\n",
       "0   Eliot     45     poeta\n",
       "1   Frost     50     poeta\n",
       "2  Milton     60   teólogo"
      ]
     },
     "execution_count": 37,
     "metadata": {},
     "output_type": "execute_result"
    }
   ],
   "source": [
    "df_lido = pd.read_csv('poetas_exportados.csv')\n",
    "df_lido"
   ]
  },
  {
   "cell_type": "code",
   "execution_count": 39,
   "id": "67e4181a-b782-4640-84c8-ab103ec08c8f",
   "metadata": {},
   "outputs": [
    {
     "data": {
      "text/html": [
       "<div>\n",
       "<style scoped>\n",
       "    .dataframe tbody tr th:only-of-type {\n",
       "        vertical-align: middle;\n",
       "    }\n",
       "\n",
       "    .dataframe tbody tr th {\n",
       "        vertical-align: top;\n",
       "    }\n",
       "\n",
       "    .dataframe thead th {\n",
       "        text-align: right;\n",
       "    }\n",
       "</style>\n",
       "<table border=\"1\" class=\"dataframe\">\n",
       "  <thead>\n",
       "    <tr style=\"text-align: right;\">\n",
       "      <th></th>\n",
       "      <th>nome</th>\n",
       "      <th>idade</th>\n",
       "      <th>profissão</th>\n",
       "    </tr>\n",
       "  </thead>\n",
       "  <tbody>\n",
       "    <tr>\n",
       "      <th>0</th>\n",
       "      <td>Eliot</td>\n",
       "      <td>45</td>\n",
       "      <td>poeta</td>\n",
       "    </tr>\n",
       "    <tr>\n",
       "      <th>1</th>\n",
       "      <td>Frost</td>\n",
       "      <td>50</td>\n",
       "      <td>poeta</td>\n",
       "    </tr>\n",
       "    <tr>\n",
       "      <th>2</th>\n",
       "      <td>Frost</td>\n",
       "      <td>60</td>\n",
       "      <td>teólogo</td>\n",
       "    </tr>\n",
       "  </tbody>\n",
       "</table>\n",
       "</div>"
      ],
      "text/plain": [
       "    nome  idade profissão\n",
       "0  Eliot     45     poeta\n",
       "1  Frost     50     poeta\n",
       "2  Frost     60   teólogo"
      ]
     },
     "execution_count": 39,
     "metadata": {},
     "output_type": "execute_result"
    }
   ],
   "source": [
    "import json\n",
    "import pandas as pd\n",
    "\n",
    "dados = [\n",
    "    {'nome': 'Eliot', 'idade': 45, 'profissão': 'poeta'},\n",
    "    {'nome': 'Frost', 'idade': 50, 'profissão': 'poeta'},\n",
    "    {'nome': 'Frost', 'idade': 60, 'profissão': 'teólogo'}\n",
    "]\n",
    "\n",
    "# Escrever o JSON\n",
    "with open('poetas.json', 'w', encoding='utf-8') as f:\n",
    "    json.dump(dados, f, indent=2, ensure_ascii=False)\n",
    "\n",
    "# Ler o JSON como DataFrame\n",
    "df = pd.read_json('poetas.json')\n",
    "df"
   ]
  },
  {
   "cell_type": "code",
   "execution_count": 43,
   "id": "f2d4feef-90e9-48ef-a7d9-9d73ff54db20",
   "metadata": {},
   "outputs": [
    {
     "data": {
      "text/html": [
       "<div>\n",
       "<style scoped>\n",
       "    .dataframe tbody tr th:only-of-type {\n",
       "        vertical-align: middle;\n",
       "    }\n",
       "\n",
       "    .dataframe tbody tr th {\n",
       "        vertical-align: top;\n",
       "    }\n",
       "\n",
       "    .dataframe thead th {\n",
       "        text-align: right;\n",
       "    }\n",
       "</style>\n",
       "<table border=\"1\" class=\"dataframe\">\n",
       "  <thead>\n",
       "    <tr style=\"text-align: right;\">\n",
       "      <th></th>\n",
       "      <th>título</th>\n",
       "      <th>ano</th>\n",
       "      <th>nome</th>\n",
       "      <th>nacionalidade</th>\n",
       "    </tr>\n",
       "  </thead>\n",
       "  <tbody>\n",
       "    <tr>\n",
       "      <th>0</th>\n",
       "      <td>Four Quartets</td>\n",
       "      <td>1943</td>\n",
       "      <td>Eliot</td>\n",
       "      <td>Inglês</td>\n",
       "    </tr>\n",
       "    <tr>\n",
       "      <th>1</th>\n",
       "      <td>The waste land</td>\n",
       "      <td>1922</td>\n",
       "      <td>Eliot</td>\n",
       "      <td>Inglês</td>\n",
       "    </tr>\n",
       "    <tr>\n",
       "      <th>2</th>\n",
       "      <td>Paradise Lost</td>\n",
       "      <td>1667</td>\n",
       "      <td>Milton</td>\n",
       "      <td>Inglês</td>\n",
       "    </tr>\n",
       "  </tbody>\n",
       "</table>\n",
       "</div>"
      ],
      "text/plain": [
       "           título   ano    nome nacionalidade\n",
       "0   Four Quartets  1943   Eliot        Inglês\n",
       "1  The waste land  1922   Eliot        Inglês\n",
       "2   Paradise Lost  1667  Milton        Inglês"
      ]
     },
     "execution_count": 43,
     "metadata": {},
     "output_type": "execute_result"
    }
   ],
   "source": [
    "import json\n",
    "import pandas as pd\n",
    "\n",
    "dados = [\n",
    "    {\n",
    "        'nome': 'Eliot',\n",
    "        'nacionalidade': 'Inglês',\n",
    "        'obras': [\n",
    "            {'título': 'Four Quartets', 'ano': 1943},\n",
    "            {'título': 'The waste land', 'ano': 1922}            \n",
    "        ]\n",
    "    },\n",
    "    {\n",
    "        'nome': 'Milton',\n",
    "        'nacionalidade': 'Inglês',\n",
    "        'obras': [\n",
    "            {'título': 'Paradise Lost', 'ano': 1667}\n",
    "        ]\n",
    "    }\n",
    "]\n",
    "\n",
    "# Salvar com json\n",
    "with open('poetas_com_obras.json', 'w', encoding='utf-8') as f:\n",
    "    json.dump(dados, f, indent=2, ensure_ascii=False)\n",
    "\n",
    "# Ler com pandas - normal_flatten não funciona direito, então usamos json + normalization\n",
    "with open('poetas_com_obras.json', encoding='utf-8') as f:\n",
    "    dados_lidos = json.load(f)\n",
    "\n",
    "# Normalizar o campo 'obras'\n",
    "df_obras = pd.json_normalize(dados_lidos, 'obras', ['nome', 'nacionalidade'])\n",
    "df_obras"
   ]
  },
  {
   "cell_type": "code",
   "execution_count": 45,
   "id": "ef8258ac-faa4-4243-be6a-1767ee4e697b",
   "metadata": {},
   "outputs": [],
   "source": [
    "# Criar um DataFrame\n",
    "df = pd.DataFrame({\n",
    "    'poeta': ['Eliot', 'Frost', 'Milton'],\n",
    "    'idade': [45, 50, 60],\n",
    "    'profissão': ['poeta', 'poeta', 'teólogo']\n",
    "})\n",
    "\n",
    "# Exportar para excel\n",
    "df.to_excel('poetas.xlsx', index=False)\n"
   ]
  },
  {
   "cell_type": "code",
   "execution_count": 57,
   "id": "026e03d5-9290-4a7d-a859-24e85fcafc6f",
   "metadata": {},
   "outputs": [
    {
     "data": {
      "text/html": [
       "<div>\n",
       "<style scoped>\n",
       "    .dataframe tbody tr th:only-of-type {\n",
       "        vertical-align: middle;\n",
       "    }\n",
       "\n",
       "    .dataframe tbody tr th {\n",
       "        vertical-align: top;\n",
       "    }\n",
       "\n",
       "    .dataframe thead th {\n",
       "        text-align: right;\n",
       "    }\n",
       "</style>\n",
       "<table border=\"1\" class=\"dataframe\">\n",
       "  <thead>\n",
       "    <tr style=\"text-align: right;\">\n",
       "      <th></th>\n",
       "      <th>poeta</th>\n",
       "      <th>idade</th>\n",
       "      <th>profissão</th>\n",
       "    </tr>\n",
       "  </thead>\n",
       "  <tbody>\n",
       "    <tr>\n",
       "      <th>0</th>\n",
       "      <td>Eliot</td>\n",
       "      <td>45</td>\n",
       "      <td>poeta</td>\n",
       "    </tr>\n",
       "    <tr>\n",
       "      <th>1</th>\n",
       "      <td>Frost</td>\n",
       "      <td>50</td>\n",
       "      <td>poeta</td>\n",
       "    </tr>\n",
       "    <tr>\n",
       "      <th>2</th>\n",
       "      <td>Milton</td>\n",
       "      <td>60</td>\n",
       "      <td>teólogo</td>\n",
       "    </tr>\n",
       "  </tbody>\n",
       "</table>\n",
       "</div>"
      ],
      "text/plain": [
       "    poeta  idade profissão\n",
       "0   Eliot     45     poeta\n",
       "1   Frost     50     poeta\n",
       "2  Milton     60   teólogo"
      ]
     },
     "execution_count": 57,
     "metadata": {},
     "output_type": "execute_result"
    }
   ],
   "source": [
    "df = pd.read_excel('poetas.xlsx')\n",
    "df"
   ]
  },
  {
   "cell_type": "code",
   "execution_count": 70,
   "id": "54dda855-c244-47ef-ad89-93f15f5187f4",
   "metadata": {},
   "outputs": [
    {
     "data": {
      "text/html": [
       "<div>\n",
       "<style scoped>\n",
       "    .dataframe tbody tr th:only-of-type {\n",
       "        vertical-align: middle;\n",
       "    }\n",
       "\n",
       "    .dataframe tbody tr th {\n",
       "        vertical-align: top;\n",
       "    }\n",
       "\n",
       "    .dataframe thead th {\n",
       "        text-align: right;\n",
       "    }\n",
       "</style>\n",
       "<table border=\"1\" class=\"dataframe\">\n",
       "  <thead>\n",
       "    <tr style=\"text-align: right;\">\n",
       "      <th></th>\n",
       "      <th>poeta</th>\n",
       "      <th>nacionalidade</th>\n",
       "    </tr>\n",
       "  </thead>\n",
       "  <tbody>\n",
       "    <tr>\n",
       "      <th>0</th>\n",
       "      <td>Eliot</td>\n",
       "      <td>Inglês</td>\n",
       "    </tr>\n",
       "    <tr>\n",
       "      <th>1</th>\n",
       "      <td>Frost</td>\n",
       "      <td>Americano</td>\n",
       "    </tr>\n",
       "  </tbody>\n",
       "</table>\n",
       "</div>"
      ],
      "text/plain": [
       "   poeta nacionalidade\n",
       "0  Eliot        Inglês\n",
       "1  Frost     Americano"
      ]
     },
     "metadata": {},
     "output_type": "display_data"
    },
    {
     "data": {
      "text/html": [
       "<div>\n",
       "<style scoped>\n",
       "    .dataframe tbody tr th:only-of-type {\n",
       "        vertical-align: middle;\n",
       "    }\n",
       "\n",
       "    .dataframe tbody tr th {\n",
       "        vertical-align: top;\n",
       "    }\n",
       "\n",
       "    .dataframe thead th {\n",
       "        text-align: right;\n",
       "    }\n",
       "</style>\n",
       "<table border=\"1\" class=\"dataframe\">\n",
       "  <thead>\n",
       "    <tr style=\"text-align: right;\">\n",
       "      <th></th>\n",
       "      <th>poeta</th>\n",
       "      <th>nacionalidade</th>\n",
       "    </tr>\n",
       "  </thead>\n",
       "  <tbody>\n",
       "    <tr>\n",
       "      <th>0</th>\n",
       "      <td>Milton</td>\n",
       "      <td>Inglês</td>\n",
       "    </tr>\n",
       "    <tr>\n",
       "      <th>1</th>\n",
       "      <td>Wordsworth</td>\n",
       "      <td>Inglês</td>\n",
       "    </tr>\n",
       "  </tbody>\n",
       "</table>\n",
       "</div>"
      ],
      "text/plain": [
       "        poeta nacionalidade\n",
       "0      Milton        Inglês\n",
       "1  Wordsworth        Inglês"
      ]
     },
     "metadata": {},
     "output_type": "display_data"
    }
   ],
   "source": [
    "# Criar dois DataFrames\n",
    "df1 = pd.DataFrame({\n",
    "    'poeta': ['Eliot', 'Frost'],\n",
    "    'nacionalidade': ['Inglês', 'Americano']\n",
    "})\n",
    "\n",
    "df2 = pd.DataFrame({\n",
    "    'poeta': ['Milton', 'Wordsworth'],\n",
    "    'nacionalidade': ['Inglês', 'Inglês']\n",
    "})\n",
    "\n",
    "# Salvar ambos no mesmo arquivo excel com abas diferentes\n",
    "with pd.ExcelWriter('poetas_multi.xlsx', engine='openpyxl') as writer:\n",
    "    df1.to_excel(writer, sheet_name='Modernos', index=False)\n",
    "    df2.to_excel(writer, sheet_name='Antigos', index=False)\n",
    "\n",
    "# Ler as abas individualmente\n",
    "df_modernos = pd.read_excel('poetas_multi.xlsx', sheet_name='Modernos')\n",
    "df_antigos = pd.read_excel('poetas_multi.xlsx', sheet_name='Antigos')\n",
    "\n",
    "display(df_modernos)\n",
    "display(df_antigos)"
   ]
  },
  {
   "cell_type": "code",
   "execution_count": 72,
   "id": "fee507d4-c671-427c-9c36-4852506e91c2",
   "metadata": {},
   "outputs": [
    {
     "name": "stdout",
     "output_type": "stream",
     "text": [
      "Requirement already satisfied: pyarrow in c:\\users\\macie\\anaconda3\\lib\\site-packages (16.1.0)\n",
      "Requirement already satisfied: numpy>=1.16.6 in c:\\users\\macie\\anaconda3\\lib\\site-packages (from pyarrow) (1.26.4)\n",
      "Note: you may need to restart the kernel to use updated packages.\n"
     ]
    }
   ],
   "source": [
    "pip install pyarrow"
   ]
  },
  {
   "cell_type": "code",
   "execution_count": 3,
   "id": "ecb825cf-a185-4443-bf25-2bdf37510065",
   "metadata": {},
   "outputs": [
    {
     "data": {
      "text/html": [
       "<div>\n",
       "<style scoped>\n",
       "    .dataframe tbody tr th:only-of-type {\n",
       "        vertical-align: middle;\n",
       "    }\n",
       "\n",
       "    .dataframe tbody tr th {\n",
       "        vertical-align: top;\n",
       "    }\n",
       "\n",
       "    .dataframe thead th {\n",
       "        text-align: right;\n",
       "    }\n",
       "</style>\n",
       "<table border=\"1\" class=\"dataframe\">\n",
       "  <thead>\n",
       "    <tr style=\"text-align: right;\">\n",
       "      <th></th>\n",
       "      <th>poeta</th>\n",
       "      <th>idade</th>\n",
       "      <th>profissão</th>\n",
       "    </tr>\n",
       "  </thead>\n",
       "  <tbody>\n",
       "    <tr>\n",
       "      <th>0</th>\n",
       "      <td>Eliot</td>\n",
       "      <td>45</td>\n",
       "      <td>poeta</td>\n",
       "    </tr>\n",
       "    <tr>\n",
       "      <th>1</th>\n",
       "      <td>Frost</td>\n",
       "      <td>50</td>\n",
       "      <td>poeta</td>\n",
       "    </tr>\n",
       "    <tr>\n",
       "      <th>2</th>\n",
       "      <td>Milton</td>\n",
       "      <td>60</td>\n",
       "      <td>teólogo</td>\n",
       "    </tr>\n",
       "  </tbody>\n",
       "</table>\n",
       "</div>"
      ],
      "text/plain": [
       "    poeta  idade profissão\n",
       "0   Eliot     45     poeta\n",
       "1   Frost     50     poeta\n",
       "2  Milton     60   teólogo"
      ]
     },
     "execution_count": 3,
     "metadata": {},
     "output_type": "execute_result"
    }
   ],
   "source": [
    "import pandas as pd\n",
    "\n",
    "df = pd.DataFrame({\n",
    "    'poeta': ['Eliot', 'Frost', 'Milton'],\n",
    "    'idade': [45, 50, 60],\n",
    "    'profissão': ['poeta', 'poeta', 'teólogo']\n",
    "})\n",
    "\n",
    "# Exportar para parquet\n",
    "df.to_parquet('poetas.parquet', index=False)\n",
    "\n",
    "# ler de volta\n",
    "\n",
    "df_lido = pd.read_parquet('poetas.parquet')\n",
    "df_lido"
   ]
  },
  {
   "cell_type": "code",
   "execution_count": 5,
   "id": "200e7f95-49a5-4d9d-8135-af8bdd64c3e1",
   "metadata": {},
   "outputs": [
    {
     "name": "stdout",
     "output_type": "stream",
     "text": [
      "Requirement already satisfied: tables in c:\\users\\macie\\anaconda3\\lib\\site-packages (3.10.1)\n",
      "Requirement already satisfied: numpy>=1.20.0 in c:\\users\\macie\\anaconda3\\lib\\site-packages (from tables) (1.26.4)\n",
      "Requirement already satisfied: numexpr>=2.6.2 in c:\\users\\macie\\anaconda3\\lib\\site-packages (from tables) (2.8.7)\n",
      "Requirement already satisfied: packaging in c:\\users\\macie\\anaconda3\\lib\\site-packages (from tables) (24.1)\n",
      "Requirement already satisfied: py-cpuinfo in c:\\users\\macie\\anaconda3\\lib\\site-packages (from tables) (9.0.0)\n",
      "Requirement already satisfied: typing-extensions>=4.4.0 in c:\\users\\macie\\anaconda3\\lib\\site-packages (from tables) (4.11.0)\n",
      "Note: you may need to restart the kernel to use updated packages.\n"
     ]
    }
   ],
   "source": [
    "pip install tables"
   ]
  },
  {
   "cell_type": "code",
   "execution_count": 5,
   "id": "264e9923-939b-44a6-b7f0-60701e8dbfe1",
   "metadata": {},
   "outputs": [
    {
     "data": {
      "text/html": [
       "<div>\n",
       "<style scoped>\n",
       "    .dataframe tbody tr th:only-of-type {\n",
       "        vertical-align: middle;\n",
       "    }\n",
       "\n",
       "    .dataframe tbody tr th {\n",
       "        vertical-align: top;\n",
       "    }\n",
       "\n",
       "    .dataframe thead th {\n",
       "        text-align: right;\n",
       "    }\n",
       "</style>\n",
       "<table border=\"1\" class=\"dataframe\">\n",
       "  <thead>\n",
       "    <tr style=\"text-align: right;\">\n",
       "      <th></th>\n",
       "      <th>poeta</th>\n",
       "      <th>idade</th>\n",
       "      <th>profissão</th>\n",
       "    </tr>\n",
       "  </thead>\n",
       "  <tbody>\n",
       "    <tr>\n",
       "      <th>0</th>\n",
       "      <td>Eliot</td>\n",
       "      <td>45</td>\n",
       "      <td>poeta</td>\n",
       "    </tr>\n",
       "    <tr>\n",
       "      <th>1</th>\n",
       "      <td>Frost</td>\n",
       "      <td>50</td>\n",
       "      <td>poeta</td>\n",
       "    </tr>\n",
       "    <tr>\n",
       "      <th>2</th>\n",
       "      <td>Milton</td>\n",
       "      <td>60</td>\n",
       "      <td>teólogo</td>\n",
       "    </tr>\n",
       "  </tbody>\n",
       "</table>\n",
       "</div>"
      ],
      "text/plain": [
       "    poeta  idade profissão\n",
       "0   Eliot     45     poeta\n",
       "1   Frost     50     poeta\n",
       "2  Milton     60   teólogo"
      ]
     },
     "execution_count": 5,
     "metadata": {},
     "output_type": "execute_result"
    }
   ],
   "source": [
    "import pandas as pd\n",
    "\n",
    "df = pd.DataFrame({\n",
    "    'poeta': ['Eliot', 'Frost', 'Milton'],\n",
    "    'idade': [45, 50, 60],\n",
    "    'profissão': ['poeta', 'poeta', 'teólogo']\n",
    "})\n",
    "\n",
    "df.to_hdf('poetas.h5', key='dados_poetas', mode='w')\n",
    "\n",
    "df_lido = pd.read_hdf('poetas.h5', key='dados_poetas')\n",
    "df_lido"
   ]
  },
  {
   "cell_type": "code",
   "execution_count": null,
   "id": "d38af3d9-3c50-493d-8cb8-dcdfea6e6954",
   "metadata": {},
   "outputs": [],
   "source": []
  }
 ],
 "metadata": {
  "kernelspec": {
   "display_name": "Python [conda env:base] *",
   "language": "python",
   "name": "conda-base-py"
  },
  "language_info": {
   "codemirror_mode": {
    "name": "ipython",
    "version": 3
   },
   "file_extension": ".py",
   "mimetype": "text/x-python",
   "name": "python",
   "nbconvert_exporter": "python",
   "pygments_lexer": "ipython3",
   "version": "3.12.7"
  }
 },
 "nbformat": 4,
 "nbformat_minor": 5
}
